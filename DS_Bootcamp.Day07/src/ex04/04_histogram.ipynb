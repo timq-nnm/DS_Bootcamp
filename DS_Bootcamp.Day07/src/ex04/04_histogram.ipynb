{
 "cells": [
  {
   "metadata": {},
   "cell_type": "markdown",
   "source": "## Exercise 04 : Histogram",
   "id": "4cf9981c3e82172"
  },
  {
   "metadata": {
    "ExecuteTime": {
     "end_time": "2025-06-03T14:43:04.928957Z",
     "start_time": "2025-06-03T14:43:03.974701Z"
    }
   },
   "cell_type": "code",
   "source": [
    "import pandas as pd\n",
    "import sqlite3\n",
    "import matplotlib.pyplot as plt"
   ],
   "id": "c9c490eb3ba46cd",
   "outputs": [],
   "execution_count": 1
  },
  {
   "metadata": {
    "ExecuteTime": {
     "end_time": "2025-06-03T14:43:05.056628Z",
     "start_time": "2025-06-03T14:43:05.053504Z"
    }
   },
   "cell_type": "code",
   "source": "con = sqlite3.connect('../data/checking-logs.sqlite')",
   "id": "ba10bf9c349ccb79",
   "outputs": [],
   "execution_count": 2
  },
  {
   "metadata": {
    "ExecuteTime": {
     "end_time": "2025-06-03T14:43:05.112892Z",
     "start_time": "2025-06-03T14:43:05.097459Z"
    }
   },
   "cell_type": "code",
   "source": [
    "df = pd.read_sql(\"\"\"\n",
    "                 SELECT strftime('%H', timestamp) AS hour,\n",
    "                    CASE\n",
    "                        WHEN strftime('%w', timestamp) IN ('1', '2', '3', '4', '5') THEN 'working_day'\n",
    "                        ELSE 'weekend'\n",
    "                    END AS day_type\n",
    "                 FROM checker\n",
    "                 WHERE uid LIKE 'user_%'\n",
    "                 \"\"\",\n",
    "con)"
   ],
   "id": "bb45b49286d04fcf",
   "outputs": [],
   "execution_count": 3
  },
  {
   "metadata": {
    "ExecuteTime": {
     "end_time": "2025-06-03T14:43:05.136445Z",
     "start_time": "2025-06-03T14:43:05.125321Z"
    }
   },
   "cell_type": "code",
   "source": [
    "df['hour'] = df['hour'].astype(int)\n",
    "df"
   ],
   "id": "85ea98e4ae628576",
   "outputs": [
    {
     "data": {
      "text/plain": [
       "      hour     day_type\n",
       "0        5  working_day\n",
       "1        5  working_day\n",
       "2        5  working_day\n",
       "3        5  working_day\n",
       "4        5  working_day\n",
       "...    ...          ...\n",
       "3202    20  working_day\n",
       "3203    20  working_day\n",
       "3204    20  working_day\n",
       "3205    20  working_day\n",
       "3206    20  working_day\n",
       "\n",
       "[3207 rows x 2 columns]"
      ],
      "text/html": [
       "<div>\n",
       "<style scoped>\n",
       "    .dataframe tbody tr th:only-of-type {\n",
       "        vertical-align: middle;\n",
       "    }\n",
       "\n",
       "    .dataframe tbody tr th {\n",
       "        vertical-align: top;\n",
       "    }\n",
       "\n",
       "    .dataframe thead th {\n",
       "        text-align: right;\n",
       "    }\n",
       "</style>\n",
       "<table border=\"1\" class=\"dataframe\">\n",
       "  <thead>\n",
       "    <tr style=\"text-align: right;\">\n",
       "      <th></th>\n",
       "      <th>hour</th>\n",
       "      <th>day_type</th>\n",
       "    </tr>\n",
       "  </thead>\n",
       "  <tbody>\n",
       "    <tr>\n",
       "      <th>0</th>\n",
       "      <td>5</td>\n",
       "      <td>working_day</td>\n",
       "    </tr>\n",
       "    <tr>\n",
       "      <th>1</th>\n",
       "      <td>5</td>\n",
       "      <td>working_day</td>\n",
       "    </tr>\n",
       "    <tr>\n",
       "      <th>2</th>\n",
       "      <td>5</td>\n",
       "      <td>working_day</td>\n",
       "    </tr>\n",
       "    <tr>\n",
       "      <th>3</th>\n",
       "      <td>5</td>\n",
       "      <td>working_day</td>\n",
       "    </tr>\n",
       "    <tr>\n",
       "      <th>4</th>\n",
       "      <td>5</td>\n",
       "      <td>working_day</td>\n",
       "    </tr>\n",
       "    <tr>\n",
       "      <th>...</th>\n",
       "      <td>...</td>\n",
       "      <td>...</td>\n",
       "    </tr>\n",
       "    <tr>\n",
       "      <th>3202</th>\n",
       "      <td>20</td>\n",
       "      <td>working_day</td>\n",
       "    </tr>\n",
       "    <tr>\n",
       "      <th>3203</th>\n",
       "      <td>20</td>\n",
       "      <td>working_day</td>\n",
       "    </tr>\n",
       "    <tr>\n",
       "      <th>3204</th>\n",
       "      <td>20</td>\n",
       "      <td>working_day</td>\n",
       "    </tr>\n",
       "    <tr>\n",
       "      <th>3205</th>\n",
       "      <td>20</td>\n",
       "      <td>working_day</td>\n",
       "    </tr>\n",
       "    <tr>\n",
       "      <th>3206</th>\n",
       "      <td>20</td>\n",
       "      <td>working_day</td>\n",
       "    </tr>\n",
       "  </tbody>\n",
       "</table>\n",
       "<p>3207 rows × 2 columns</p>\n",
       "</div>"
      ]
     },
     "execution_count": 4,
     "metadata": {},
     "output_type": "execute_result"
    }
   ],
   "execution_count": 4
  },
  {
   "metadata": {
    "ExecuteTime": {
     "end_time": "2025-06-03T14:43:05.214607Z",
     "start_time": "2025-06-03T14:43:05.208655Z"
    }
   },
   "cell_type": "code",
   "source": [
    "workdays = df[df['day_type'] == 'working_day']['hour']\n",
    "weekends = df[df['day_type'] == 'weekend']['hour']"
   ],
   "id": "72f8ea9a9778ecd5",
   "outputs": [],
   "execution_count": 5
  },
  {
   "metadata": {
    "ExecuteTime": {
     "end_time": "2025-06-03T14:43:05.656931Z",
     "start_time": "2025-06-03T14:43:05.284390Z"
    }
   },
   "cell_type": "code",
   "source": [
    "plt.figure(figsize = (15,8))\n",
    "plt.hist(\n",
    "    workdays, bins=24, label='working days', alpha=.7, color='blue'\n",
    ")\n",
    "\n",
    "plt.hist(\n",
    "    weekends, bins=24, label='weekend', alpha=.7, color='red'\n",
    ")\n",
    "plt.legend()\n",
    "plt.xlim([0, 24])\n",
    "plt.show"
   ],
   "id": "e5f41c0bf4018698",
   "outputs": [
    {
     "data": {
      "text/plain": [
       "<function matplotlib.pyplot.show(close=None, block=None)>"
      ]
     },
     "execution_count": 6,
     "metadata": {},
     "output_type": "execute_result"
    },
    {
     "data": {
      "text/plain": [
       "<Figure size 1500x800 with 1 Axes>"
      ],
      "image/png": "[encoded data removed]"
     },
     "metadata": {},
     "output_type": "display_data"
    }
   ],
   "execution_count": 6
  },
  {
   "metadata": {
    "ExecuteTime": {
     "end_time": "2025-06-03T14:43:05.681384Z",
     "start_time": "2025-06-03T14:43:05.677664Z"
    }
   },
   "cell_type": "code",
   "source": "con.close()",
   "id": "c32edb524af0bf0e",
   "outputs": [],
   "execution_count": 7
  },
  {
   "metadata": {},
   "cell_type": "markdown",
   "source": "### Бывают ли часы, когда общее количество коммитов в выходные дни было выше, чем в рабочие дни?",
   "id": "8fb73dbf9a92e6b9"
  },
  {
   "metadata": {},
   "cell_type": "markdown",
   "source": "11, 13, 22, 23",
   "id": "d9d54e416e9270e8"
  }
 ],
 "metadata": {},
 "nbformat": 4,
 "nbformat_minor": 5
}
