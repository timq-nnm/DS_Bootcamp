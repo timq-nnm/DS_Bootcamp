{
 "cells": [
  {
   "cell_type": "markdown",
   "id": "8a9cc5a4",
   "metadata": {},
   "source": [
    "## Exercise 02 : Preprocessing"
   ]
  },
  {
   "cell_type": "code",
   "execution_count": 89,
   "id": "e3e6ef69",
   "metadata": {},
   "outputs": [],
   "source": [
    "import pandas as pd"
   ]
  },
  {
   "cell_type": "markdown",
   "id": "64d45731",
   "metadata": {},
   "source": [
    "* [download](https://drive.google.com/open?id=1kFMUiXtrlw5B6WTjJ-mUm4-STV28Zsvn) and read the CSV file and make `ID` the index column"
   ]
  },
  {
   "cell_type": "code",
   "execution_count": 90,
   "id": "d2bfa560",
   "metadata": {},
   "outputs": [],
   "source": [
    "df = pd.read_csv('../data/auto.csv', sep=',')"
   ]
  },
  {
   "cell_type": "code",
   "execution_count": 91,
   "id": "a43b343e",
   "metadata": {},
   "outputs": [
    {
     "data": {
      "text/html": [
       "<div>\n",
       "<style scoped>\n",
       "    .dataframe tbody tr th:only-of-type {\n",
       "        vertical-align: middle;\n",
       "    }\n",
       "\n",
       "    .dataframe tbody tr th {\n",
       "        vertical-align: top;\n",
       "    }\n",
       "\n",
       "    .dataframe thead th {\n",
       "        text-align: right;\n",
       "    }\n",
       "</style>\n",
       "<table border=\"1\" class=\"dataframe\">\n",
       "  <thead>\n",
       "    <tr style=\"text-align: right;\">\n",
       "      <th></th>\n",
       "      <th>CarNumber</th>\n",
       "      <th>Make_n_model</th>\n",
       "      <th>Refund</th>\n",
       "      <th>Fines</th>\n",
       "      <th>History</th>\n",
       "    </tr>\n",
       "    <tr>\n",
       "      <th>ID</th>\n",
       "      <th></th>\n",
       "      <th></th>\n",
       "      <th></th>\n",
       "      <th></th>\n",
       "      <th></th>\n",
       "    </tr>\n",
       "  </thead>\n",
       "  <tbody>\n",
       "    <tr>\n",
       "      <th>0</th>\n",
       "      <td>Y163O8161RUS</td>\n",
       "      <td>Ford Focus</td>\n",
       "      <td>2.0</td>\n",
       "      <td>3200.0</td>\n",
       "      <td>NaN</td>\n",
       "    </tr>\n",
       "    <tr>\n",
       "      <th>1</th>\n",
       "      <td>E432XX77RUS</td>\n",
       "      <td>Toyota Camry</td>\n",
       "      <td>1.0</td>\n",
       "      <td>6500.0</td>\n",
       "      <td>NaN</td>\n",
       "    </tr>\n",
       "    <tr>\n",
       "      <th>2</th>\n",
       "      <td>7184TT36RUS</td>\n",
       "      <td>Ford Focus</td>\n",
       "      <td>1.0</td>\n",
       "      <td>2100.0</td>\n",
       "      <td>NaN</td>\n",
       "    </tr>\n",
       "    <tr>\n",
       "      <th>3</th>\n",
       "      <td>X582HE161RUS</td>\n",
       "      <td>Ford Focus</td>\n",
       "      <td>2.0</td>\n",
       "      <td>2000.0</td>\n",
       "      <td>NaN</td>\n",
       "    </tr>\n",
       "    <tr>\n",
       "      <th>4</th>\n",
       "      <td>E34877152RUS</td>\n",
       "      <td>Ford Focus</td>\n",
       "      <td>2.0</td>\n",
       "      <td>6100.0</td>\n",
       "      <td>NaN</td>\n",
       "    </tr>\n",
       "    <tr>\n",
       "      <th>...</th>\n",
       "      <td>...</td>\n",
       "      <td>...</td>\n",
       "      <td>...</td>\n",
       "      <td>...</td>\n",
       "      <td>...</td>\n",
       "    </tr>\n",
       "    <tr>\n",
       "      <th>926</th>\n",
       "      <td>Y163O8161RUS</td>\n",
       "      <td>Ford Focus</td>\n",
       "      <td>2.0</td>\n",
       "      <td>1600.0</td>\n",
       "      <td>NaN</td>\n",
       "    </tr>\n",
       "    <tr>\n",
       "      <th>927</th>\n",
       "      <td>M0309X197RUS</td>\n",
       "      <td>Ford Focus</td>\n",
       "      <td>1.0</td>\n",
       "      <td>22300.0</td>\n",
       "      <td>NaN</td>\n",
       "    </tr>\n",
       "    <tr>\n",
       "      <th>928</th>\n",
       "      <td>O673E8197RUS</td>\n",
       "      <td>Ford Focus</td>\n",
       "      <td>2.0</td>\n",
       "      <td>600.0</td>\n",
       "      <td>NaN</td>\n",
       "    </tr>\n",
       "    <tr>\n",
       "      <th>929</th>\n",
       "      <td>8610T8154RUS</td>\n",
       "      <td>Ford Focus</td>\n",
       "      <td>1.0</td>\n",
       "      <td>2000.0</td>\n",
       "      <td>NaN</td>\n",
       "    </tr>\n",
       "    <tr>\n",
       "      <th>930</th>\n",
       "      <td>H419XE197RUS</td>\n",
       "      <td>Toyota Corolla</td>\n",
       "      <td>2.0</td>\n",
       "      <td>NaN</td>\n",
       "      <td>2.0</td>\n",
       "    </tr>\n",
       "  </tbody>\n",
       "</table>\n",
       "<p>931 rows × 5 columns</p>\n",
       "</div>"
      ],
      "text/plain": [
       "        CarNumber    Make_n_model  Refund    Fines  History\n",
       "ID                                                         \n",
       "0    Y163O8161RUS      Ford Focus     2.0   3200.0      NaN\n",
       "1     E432XX77RUS    Toyota Camry     1.0   6500.0      NaN\n",
       "2     7184TT36RUS      Ford Focus     1.0   2100.0      NaN\n",
       "3    X582HE161RUS      Ford Focus     2.0   2000.0      NaN\n",
       "4    E34877152RUS      Ford Focus     2.0   6100.0      NaN\n",
       "..            ...             ...     ...      ...      ...\n",
       "926  Y163O8161RUS      Ford Focus     2.0   1600.0      NaN\n",
       "927  M0309X197RUS      Ford Focus     1.0  22300.0      NaN\n",
       "928  O673E8197RUS      Ford Focus     2.0    600.0      NaN\n",
       "929  8610T8154RUS      Ford Focus     1.0   2000.0      NaN\n",
       "930  H419XE197RUS  Toyota Corolla     2.0      NaN      2.0\n",
       "\n",
       "[931 rows x 5 columns]"
      ]
     },
     "execution_count": 91,
     "metadata": {},
     "output_type": "execute_result"
    }
   ],
   "source": [
    "df.set_index('ID')"
   ]
  },
  {
   "cell_type": "markdown",
   "id": "cadc32f8",
   "metadata": {},
   "source": [
    "* count the number of observations using the method `count()`"
   ]
  },
  {
   "cell_type": "code",
   "execution_count": 92,
   "id": "df58258f",
   "metadata": {},
   "outputs": [
    {
     "data": {
      "text/plain": [
       "ID              931\n",
       "CarNumber       931\n",
       "Make_n_model    931\n",
       "Refund          914\n",
       "Fines           869\n",
       "History          82\n",
       "dtype: int64"
      ]
     },
     "execution_count": 92,
     "metadata": {},
     "output_type": "execute_result"
    }
   ],
   "source": [
    "df.count()"
   ]
  },
  {
   "cell_type": "markdown",
   "id": "c3c8cd0d",
   "metadata": {},
   "source": [
    "* drop the duplicates, taking into account only the following columns: `CarNumber`,\n",
    "`Make_n_model`, `Fines`\n",
    "* between the two equal observations, you need to choose the last"
   ]
  },
  {
   "cell_type": "code",
   "execution_count": 93,
   "id": "403ebc3d",
   "metadata": {},
   "outputs": [],
   "source": [
    "df.drop_duplicates(subset=['CarNumber', 'Make_n_model', 'Fines'], keep='last', inplace=True)"
   ]
  },
  {
   "cell_type": "markdown",
   "id": "2f58781c",
   "metadata": {},
   "source": [
    "* check the number of observations again"
   ]
  },
  {
   "cell_type": "code",
   "execution_count": 94,
   "id": "17523f64",
   "metadata": {},
   "outputs": [
    {
     "data": {
      "text/plain": [
       "ID              725\n",
       "CarNumber       725\n",
       "Make_n_model    725\n",
       "Refund          713\n",
       "Fines           665\n",
       "History          65\n",
       "dtype: int64"
      ]
     },
     "execution_count": 94,
     "metadata": {},
     "output_type": "execute_result"
    }
   ],
   "source": [
    "df.count()"
   ]
  },
  {
   "cell_type": "markdown",
   "id": "b0cc3426",
   "metadata": {},
   "source": [
    "* work with missing values\n",
    "* check how many values are missing from each column"
   ]
  },
  {
   "cell_type": "code",
   "execution_count": 95,
   "id": "1e64d232",
   "metadata": {},
   "outputs": [
    {
     "data": {
      "text/plain": [
       "ID                0\n",
       "CarNumber         0\n",
       "Make_n_model      0\n",
       "Refund           12\n",
       "Fines            60\n",
       "History         660\n",
       "dtype: int64"
      ]
     },
     "execution_count": 95,
     "metadata": {},
     "output_type": "execute_result"
    }
   ],
   "source": [
    "df.isna().sum()"
   ]
  },
  {
   "cell_type": "markdown",
   "id": "b83001e9",
   "metadata": {},
   "source": [
    "* drop all the columns with over 500 missing values using the argument `thresh`,\n",
    "  check how many missing values are in each column"
   ]
  },
  {
   "cell_type": "code",
   "execution_count": 96,
   "id": "c687505c",
   "metadata": {},
   "outputs": [
    {
     "data": {
      "text/plain": [
       "ID               0\n",
       "CarNumber        0\n",
       "Make_n_model     0\n",
       "Refund          12\n",
       "Fines           60\n",
       "dtype: int64"
      ]
     },
     "execution_count": 96,
     "metadata": {},
     "output_type": "execute_result"
    }
   ],
   "source": [
    "df.dropna(thresh=500, axis=1, inplace=True)\n",
    "df.isna().sum()"
   ]
  },
  {
   "cell_type": "markdown",
   "id": "83360164",
   "metadata": {},
   "source": [
    "* replace all the missing values in the `Refund` column with the previous value in\n",
    "  that column for that cell, use the argument method, check how many values\n",
    "  are missing from each column"
   ]
  },
  {
   "cell_type": "code",
   "execution_count": 97,
   "id": "7a216fcd",
   "metadata": {},
   "outputs": [
    {
     "data": {
      "text/plain": [
       "ID               0\n",
       "CarNumber        0\n",
       "Make_n_model     0\n",
       "Refund           0\n",
       "Fines           60\n",
       "dtype: int64"
      ]
     },
     "execution_count": 97,
     "metadata": {},
     "output_type": "execute_result"
    }
   ],
   "source": [
    "df['Refund'] = df['Refund'].ffill()\n",
    "df.isna().sum()"
   ]
  },
  {
   "cell_type": "markdown",
   "id": "e61cd93a",
   "metadata": {},
   "source": [
    " * replace all the missing values in the `Fines` column with the mean value of this\n",
    "  column (exclude NA/null values when computing the mean value), check how\n",
    "  many values are missing from each column"
   ]
  },
  {
   "cell_type": "code",
   "execution_count": 98,
   "id": "8c4c44b3",
   "metadata": {},
   "outputs": [],
   "source": [
    "mean_df = df['Fines'][df['Fines'] != 0].mean()\n",
    "df['Fines'] = df['Fines'].fillna(mean_df)"
   ]
  },
  {
   "cell_type": "code",
   "execution_count": 99,
   "id": "19b44aed",
   "metadata": {},
   "outputs": [
    {
     "data": {
      "text/plain": [
       "ID              0\n",
       "CarNumber       0\n",
       "Make_n_model    0\n",
       "Refund          0\n",
       "Fines           0\n",
       "dtype: int64"
      ]
     },
     "execution_count": 99,
     "metadata": {},
     "output_type": "execute_result"
    }
   ],
   "source": [
    "df.isna().sum()"
   ]
  },
  {
   "cell_type": "markdown",
   "id": "6a097ac5",
   "metadata": {},
   "source": [
    "* split and parse the make and model\n",
    "* use the method apply both for splitting and for extracting the values to the\n",
    "  new columns `Make` and `Model`"
   ]
  },
  {
   "cell_type": "code",
   "execution_count": 100,
   "id": "b7439342",
   "metadata": {},
   "outputs": [],
   "source": [
    "df['Make'] = df['Make_n_model'].apply(lambda x: x.split()[0])\n",
    "df['Model'] = df['Make_n_model'].apply(lambda x: x.split()[1] if len(x.split()) == 2 else None)"
   ]
  },
  {
   "cell_type": "markdown",
   "id": "4f900883",
   "metadata": {},
   "source": [
    "* drop the column `Make_n_model`"
   ]
  },
  {
   "cell_type": "code",
   "execution_count": 101,
   "id": "f6192a0b",
   "metadata": {},
   "outputs": [],
   "source": [
    "df.drop(columns='Make_n_model', inplace=True)"
   ]
  },
  {
   "cell_type": "code",
   "execution_count": 102,
   "id": "a0868265",
   "metadata": {},
   "outputs": [
    {
     "data": {
      "text/html": [
       "<div>\n",
       "<style scoped>\n",
       "    .dataframe tbody tr th:only-of-type {\n",
       "        vertical-align: middle;\n",
       "    }\n",
       "\n",
       "    .dataframe tbody tr th {\n",
       "        vertical-align: top;\n",
       "    }\n",
       "\n",
       "    .dataframe thead th {\n",
       "        text-align: right;\n",
       "    }\n",
       "</style>\n",
       "<table border=\"1\" class=\"dataframe\">\n",
       "  <thead>\n",
       "    <tr style=\"text-align: right;\">\n",
       "      <th></th>\n",
       "      <th>ID</th>\n",
       "      <th>CarNumber</th>\n",
       "      <th>Refund</th>\n",
       "      <th>Fines</th>\n",
       "      <th>Make</th>\n",
       "      <th>Model</th>\n",
       "    </tr>\n",
       "  </thead>\n",
       "  <tbody>\n",
       "    <tr>\n",
       "      <th>0</th>\n",
       "      <td>0</td>\n",
       "      <td>Y163O8161RUS</td>\n",
       "      <td>2.0</td>\n",
       "      <td>3200.000000</td>\n",
       "      <td>Ford</td>\n",
       "      <td>Focus</td>\n",
       "    </tr>\n",
       "    <tr>\n",
       "      <th>1</th>\n",
       "      <td>1</td>\n",
       "      <td>E432XX77RUS</td>\n",
       "      <td>1.0</td>\n",
       "      <td>6500.000000</td>\n",
       "      <td>Toyota</td>\n",
       "      <td>Camry</td>\n",
       "    </tr>\n",
       "    <tr>\n",
       "      <th>2</th>\n",
       "      <td>2</td>\n",
       "      <td>7184TT36RUS</td>\n",
       "      <td>1.0</td>\n",
       "      <td>2100.000000</td>\n",
       "      <td>Ford</td>\n",
       "      <td>Focus</td>\n",
       "    </tr>\n",
       "    <tr>\n",
       "      <th>3</th>\n",
       "      <td>3</td>\n",
       "      <td>X582HE161RUS</td>\n",
       "      <td>2.0</td>\n",
       "      <td>2000.000000</td>\n",
       "      <td>Ford</td>\n",
       "      <td>Focus</td>\n",
       "    </tr>\n",
       "    <tr>\n",
       "      <th>5</th>\n",
       "      <td>5</td>\n",
       "      <td>92918M178RUS</td>\n",
       "      <td>1.0</td>\n",
       "      <td>5700.000000</td>\n",
       "      <td>Ford</td>\n",
       "      <td>Focus</td>\n",
       "    </tr>\n",
       "    <tr>\n",
       "      <th>...</th>\n",
       "      <td>...</td>\n",
       "      <td>...</td>\n",
       "      <td>...</td>\n",
       "      <td>...</td>\n",
       "      <td>...</td>\n",
       "      <td>...</td>\n",
       "    </tr>\n",
       "    <tr>\n",
       "      <th>926</th>\n",
       "      <td>926</td>\n",
       "      <td>Y163O8161RUS</td>\n",
       "      <td>2.0</td>\n",
       "      <td>1600.000000</td>\n",
       "      <td>Ford</td>\n",
       "      <td>Focus</td>\n",
       "    </tr>\n",
       "    <tr>\n",
       "      <th>927</th>\n",
       "      <td>927</td>\n",
       "      <td>M0309X197RUS</td>\n",
       "      <td>1.0</td>\n",
       "      <td>22300.000000</td>\n",
       "      <td>Ford</td>\n",
       "      <td>Focus</td>\n",
       "    </tr>\n",
       "    <tr>\n",
       "      <th>928</th>\n",
       "      <td>928</td>\n",
       "      <td>O673E8197RUS</td>\n",
       "      <td>2.0</td>\n",
       "      <td>600.000000</td>\n",
       "      <td>Ford</td>\n",
       "      <td>Focus</td>\n",
       "    </tr>\n",
       "    <tr>\n",
       "      <th>929</th>\n",
       "      <td>929</td>\n",
       "      <td>8610T8154RUS</td>\n",
       "      <td>1.0</td>\n",
       "      <td>2000.000000</td>\n",
       "      <td>Ford</td>\n",
       "      <td>Focus</td>\n",
       "    </tr>\n",
       "    <tr>\n",
       "      <th>930</th>\n",
       "      <td>930</td>\n",
       "      <td>H419XE197RUS</td>\n",
       "      <td>2.0</td>\n",
       "      <td>8594.586466</td>\n",
       "      <td>Toyota</td>\n",
       "      <td>Corolla</td>\n",
       "    </tr>\n",
       "  </tbody>\n",
       "</table>\n",
       "<p>725 rows × 6 columns</p>\n",
       "</div>"
      ],
      "text/plain": [
       "      ID     CarNumber  Refund         Fines    Make    Model\n",
       "0      0  Y163O8161RUS     2.0   3200.000000    Ford    Focus\n",
       "1      1   E432XX77RUS     1.0   6500.000000  Toyota    Camry\n",
       "2      2   7184TT36RUS     1.0   2100.000000    Ford    Focus\n",
       "3      3  X582HE161RUS     2.0   2000.000000    Ford    Focus\n",
       "5      5  92918M178RUS     1.0   5700.000000    Ford    Focus\n",
       "..   ...           ...     ...           ...     ...      ...\n",
       "926  926  Y163O8161RUS     2.0   1600.000000    Ford    Focus\n",
       "927  927  M0309X197RUS     1.0  22300.000000    Ford    Focus\n",
       "928  928  O673E8197RUS     2.0    600.000000    Ford    Focus\n",
       "929  929  8610T8154RUS     1.0   2000.000000    Ford    Focus\n",
       "930  930  H419XE197RUS     2.0   8594.586466  Toyota  Corolla\n",
       "\n",
       "[725 rows x 6 columns]"
      ]
     },
     "execution_count": 102,
     "metadata": {},
     "output_type": "execute_result"
    }
   ],
   "source": [
    "df"
   ]
  },
  {
   "cell_type": "markdown",
   "id": "9b49f40f",
   "metadata": {},
   "source": [
    "* save the dataframe in the JSON file auto.json in the format below:\n",
    "\n",
    "    ```\n",
    "    [{\"CarNumber\":\"Y163O8161RUS\",\"Refund\":2.0,\"Fines\":3200.0,\"Make\":\"Ford\",\n",
    "    \"Model\":\"Focus\"},\n",
    "    {\"CarNumber\":\"E432XX77RUS\",\"Refund\":1.0,\"Fines\":6500.0,\"Make\":\"Toyota\",\n",
    "    \"Model\":\"Camry\"}]\n",
    "    ```"
   ]
  },
  {
   "cell_type": "code",
   "execution_count": 103,
   "id": "7156ea17",
   "metadata": {},
   "outputs": [],
   "source": [
    "df.drop(columns='ID', inplace=True)"
   ]
  },
  {
   "cell_type": "code",
   "execution_count": 104,
   "id": "38755c8e",
   "metadata": {},
   "outputs": [],
   "source": [
    "df.to_json('../data/auto.json', orient='records')"
   ]
  }
 ],
 "metadata": {
  "kernelspec": {
   "display_name": "Python 3",
   "language": "python",
   "name": "python3"
  },
  "language_info": {
   "codemirror_mode": {
    "name": "ipython",
    "version": 3
   },
   "file_extension": ".py",
   "mimetype": "text/x-python",
   "name": "python",
   "nbconvert_exporter": "python",
   "pygments_lexer": "ipython3",
   "version": "3.13.3"
  }
 },
 "nbformat": 4,
 "nbformat_minor": 5
}
