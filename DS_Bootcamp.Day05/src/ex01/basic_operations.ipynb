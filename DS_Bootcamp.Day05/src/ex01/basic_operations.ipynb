{
 "cells": [
  {
   "cell_type": "markdown",
   "id": "22f849f4",
   "metadata": {},
   "source": [
    "### Exercise 01 : Basic operations"
   ]
  },
  {
   "cell_type": "markdown",
   "id": "f71f67b6",
   "metadata": {},
   "source": [
    "* create a dataframe `views` with two columns: `datetime` and `user` by reading `feed-views.log`"
   ]
  },
  {
   "cell_type": "code",
   "execution_count": 5,
   "id": "048b90a6",
   "metadata": {},
   "outputs": [
    {
     "data": {
      "text/html": [
       "<div>\n",
       "<style scoped>\n",
       "    .dataframe tbody tr th:only-of-type {\n",
       "        vertical-align: middle;\n",
       "    }\n",
       "\n",
       "    .dataframe tbody tr th {\n",
       "        vertical-align: top;\n",
       "    }\n",
       "\n",
       "    .dataframe thead th {\n",
       "        text-align: right;\n",
       "    }\n",
       "</style>\n",
       "<table border=\"1\" class=\"dataframe\">\n",
       "  <thead>\n",
       "    <tr style=\"text-align: right;\">\n",
       "      <th></th>\n",
       "      <th>datetime</th>\n",
       "      <th>user</th>\n",
       "    </tr>\n",
       "  </thead>\n",
       "  <tbody>\n",
       "    <tr>\n",
       "      <th>0</th>\n",
       "      <td>2020-04-17 12:01:08.463179</td>\n",
       "      <td>artem</td>\n",
       "    </tr>\n",
       "    <tr>\n",
       "      <th>1</th>\n",
       "      <td>2020-04-17 12:01:23.743946</td>\n",
       "      <td>artem</td>\n",
       "    </tr>\n",
       "    <tr>\n",
       "      <th>2</th>\n",
       "      <td>2020-04-17 12:27:30.646665</td>\n",
       "      <td>artem</td>\n",
       "    </tr>\n",
       "    <tr>\n",
       "      <th>3</th>\n",
       "      <td>2020-04-17 12:35:44.884757</td>\n",
       "      <td>artem</td>\n",
       "    </tr>\n",
       "    <tr>\n",
       "      <th>4</th>\n",
       "      <td>2020-04-17 12:35:52.735016</td>\n",
       "      <td>artem</td>\n",
       "    </tr>\n",
       "    <tr>\n",
       "      <th>...</th>\n",
       "      <td>...</td>\n",
       "      <td>...</td>\n",
       "    </tr>\n",
       "    <tr>\n",
       "      <th>1071</th>\n",
       "      <td>2020-05-21 18:45:20.441142</td>\n",
       "      <td>valentina</td>\n",
       "    </tr>\n",
       "    <tr>\n",
       "      <th>1072</th>\n",
       "      <td>2020-05-21 23:03:06.457819</td>\n",
       "      <td>maxim</td>\n",
       "    </tr>\n",
       "    <tr>\n",
       "      <th>1073</th>\n",
       "      <td>2020-05-21 23:23:49.995349</td>\n",
       "      <td>pavel</td>\n",
       "    </tr>\n",
       "    <tr>\n",
       "      <th>1074</th>\n",
       "      <td>2020-05-21 23:49:22.386789</td>\n",
       "      <td>artem</td>\n",
       "    </tr>\n",
       "    <tr>\n",
       "      <th>1075</th>\n",
       "      <td>2020-05-22 10:36:14.662600</td>\n",
       "      <td>artem</td>\n",
       "    </tr>\n",
       "  </tbody>\n",
       "</table>\n",
       "<p>1076 rows × 2 columns</p>\n",
       "</div>"
      ],
      "text/plain": [
       "                        datetime       user\n",
       "0     2020-04-17 12:01:08.463179      artem\n",
       "1     2020-04-17 12:01:23.743946      artem\n",
       "2     2020-04-17 12:27:30.646665      artem\n",
       "3     2020-04-17 12:35:44.884757      artem\n",
       "4     2020-04-17 12:35:52.735016      artem\n",
       "...                          ...        ...\n",
       "1071  2020-05-21 18:45:20.441142  valentina\n",
       "1072  2020-05-21 23:03:06.457819      maxim\n",
       "1073  2020-05-21 23:23:49.995349      pavel\n",
       "1074  2020-05-21 23:49:22.386789      artem\n",
       "1075  2020-05-22 10:36:14.662600      artem\n",
       "\n",
       "[1076 rows x 2 columns]"
      ]
     },
     "execution_count": 5,
     "metadata": {},
     "output_type": "execute_result"
    }
   ],
   "source": [
    "import pandas as pd\n",
    "\n",
    "views = pd.read_csv('../data/feed-views.log', sep='\\t', names=['datetime', 'user'])\n",
    "views"
   ]
  },
  {
   "cell_type": "markdown",
   "id": "384b73c3",
   "metadata": {},
   "source": [
    "* convert the `datetime` to the `datetime64[ns]` `Dtype`"
   ]
  },
  {
   "cell_type": "code",
   "execution_count": 6,
   "id": "72016497",
   "metadata": {},
   "outputs": [],
   "source": [
    "views['datetime'] = views['datetime'].astype('datetime64[ns]')\n"
   ]
  },
  {
   "cell_type": "markdown",
   "id": "265a0410",
   "metadata": {},
   "source": [
    "* extract the year, month, day, hour, minute, and second from the values of that\n",
    "  column to the new columns"
   ]
  },
  {
   "cell_type": "code",
   "execution_count": 7,
   "id": "6b87c7da",
   "metadata": {},
   "outputs": [],
   "source": [
    "views.insert(0, 'year', views['datetime'].dt.year)\n",
    "views.insert(1, 'month', views['datetime'].dt.month)\n",
    "views.insert(2, 'day', views['datetime'].dt.day)\n",
    "views.insert(3, 'hour', views['datetime'].dt.hour)\n",
    "views.insert(4, 'minute', views['datetime'].dt.minute)\n",
    "views.insert(5, 'second', views['datetime'].dt.second)"
   ]
  },
  {
   "cell_type": "markdown",
   "id": "89ecd9a9",
   "metadata": {},
   "source": [
    "* create the new column `daytime`\n",
    "  * you need to assign the particular time of day value if an hour is within a\n",
    "  particular interval, for example, afternoon if the hour is larger than `11` and\n",
    "  less or equal to `17`\n",
    "  * 0 – 3.59 `night`, 4 – 6.59 `early morning`, 7 – 10.59 `morning`, 11 – 16.59 `afternoon`, 17 – 19.59 `early evening`, 20 – 23.59 `evening`\n",
    "  * use the method `cut` to solve this subtask"
   ]
  },
  {
   "cell_type": "code",
   "execution_count": 8,
   "id": "b112ef4e",
   "metadata": {},
   "outputs": [],
   "source": [
    "arr = views['hour']\n",
    "bin = [-1, 3.59, 6.59, 10.59, 16.59, 19.59, 23.59]\n",
    "labels = ['night', 'early morning', 'morning', 'afternoon', 'early evening', 'evening']\n"
   ]
  },
  {
   "cell_type": "code",
   "execution_count": 9,
   "id": "a346e818",
   "metadata": {},
   "outputs": [],
   "source": [
    "views.insert(6, 'daytime', pd.cut(arr, bins=bin, labels=labels))"
   ]
  },
  {
   "cell_type": "markdown",
   "id": "1115f567",
   "metadata": {},
   "source": [
    "  * assign the column `user` as the index"
   ]
  },
  {
   "cell_type": "code",
   "execution_count": 10,
   "id": "f0c25f35",
   "metadata": {},
   "outputs": [
    {
     "data": {
      "text/html": [
       "<div>\n",
       "<style scoped>\n",
       "    .dataframe tbody tr th:only-of-type {\n",
       "        vertical-align: middle;\n",
       "    }\n",
       "\n",
       "    .dataframe tbody tr th {\n",
       "        vertical-align: top;\n",
       "    }\n",
       "\n",
       "    .dataframe thead th {\n",
       "        text-align: right;\n",
       "    }\n",
       "</style>\n",
       "<table border=\"1\" class=\"dataframe\">\n",
       "  <thead>\n",
       "    <tr style=\"text-align: right;\">\n",
       "      <th></th>\n",
       "      <th>year</th>\n",
       "      <th>month</th>\n",
       "      <th>day</th>\n",
       "      <th>hour</th>\n",
       "      <th>minute</th>\n",
       "      <th>second</th>\n",
       "      <th>daytime</th>\n",
       "      <th>datetime</th>\n",
       "    </tr>\n",
       "    <tr>\n",
       "      <th>user</th>\n",
       "      <th></th>\n",
       "      <th></th>\n",
       "      <th></th>\n",
       "      <th></th>\n",
       "      <th></th>\n",
       "      <th></th>\n",
       "      <th></th>\n",
       "      <th></th>\n",
       "    </tr>\n",
       "  </thead>\n",
       "  <tbody>\n",
       "    <tr>\n",
       "      <th>artem</th>\n",
       "      <td>2020</td>\n",
       "      <td>4</td>\n",
       "      <td>17</td>\n",
       "      <td>12</td>\n",
       "      <td>1</td>\n",
       "      <td>8</td>\n",
       "      <td>afternoon</td>\n",
       "      <td>2020-04-17 12:01:08.463179</td>\n",
       "    </tr>\n",
       "    <tr>\n",
       "      <th>artem</th>\n",
       "      <td>2020</td>\n",
       "      <td>4</td>\n",
       "      <td>17</td>\n",
       "      <td>12</td>\n",
       "      <td>1</td>\n",
       "      <td>23</td>\n",
       "      <td>afternoon</td>\n",
       "      <td>2020-04-17 12:01:23.743946</td>\n",
       "    </tr>\n",
       "    <tr>\n",
       "      <th>artem</th>\n",
       "      <td>2020</td>\n",
       "      <td>4</td>\n",
       "      <td>17</td>\n",
       "      <td>12</td>\n",
       "      <td>27</td>\n",
       "      <td>30</td>\n",
       "      <td>afternoon</td>\n",
       "      <td>2020-04-17 12:27:30.646665</td>\n",
       "    </tr>\n",
       "    <tr>\n",
       "      <th>artem</th>\n",
       "      <td>2020</td>\n",
       "      <td>4</td>\n",
       "      <td>17</td>\n",
       "      <td>12</td>\n",
       "      <td>35</td>\n",
       "      <td>44</td>\n",
       "      <td>afternoon</td>\n",
       "      <td>2020-04-17 12:35:44.884757</td>\n",
       "    </tr>\n",
       "    <tr>\n",
       "      <th>artem</th>\n",
       "      <td>2020</td>\n",
       "      <td>4</td>\n",
       "      <td>17</td>\n",
       "      <td>12</td>\n",
       "      <td>35</td>\n",
       "      <td>52</td>\n",
       "      <td>afternoon</td>\n",
       "      <td>2020-04-17 12:35:52.735016</td>\n",
       "    </tr>\n",
       "    <tr>\n",
       "      <th>...</th>\n",
       "      <td>...</td>\n",
       "      <td>...</td>\n",
       "      <td>...</td>\n",
       "      <td>...</td>\n",
       "      <td>...</td>\n",
       "      <td>...</td>\n",
       "      <td>...</td>\n",
       "      <td>...</td>\n",
       "    </tr>\n",
       "    <tr>\n",
       "      <th>valentina</th>\n",
       "      <td>2020</td>\n",
       "      <td>5</td>\n",
       "      <td>21</td>\n",
       "      <td>18</td>\n",
       "      <td>45</td>\n",
       "      <td>20</td>\n",
       "      <td>early evening</td>\n",
       "      <td>2020-05-21 18:45:20.441142</td>\n",
       "    </tr>\n",
       "    <tr>\n",
       "      <th>maxim</th>\n",
       "      <td>2020</td>\n",
       "      <td>5</td>\n",
       "      <td>21</td>\n",
       "      <td>23</td>\n",
       "      <td>3</td>\n",
       "      <td>6</td>\n",
       "      <td>evening</td>\n",
       "      <td>2020-05-21 23:03:06.457819</td>\n",
       "    </tr>\n",
       "    <tr>\n",
       "      <th>pavel</th>\n",
       "      <td>2020</td>\n",
       "      <td>5</td>\n",
       "      <td>21</td>\n",
       "      <td>23</td>\n",
       "      <td>23</td>\n",
       "      <td>49</td>\n",
       "      <td>evening</td>\n",
       "      <td>2020-05-21 23:23:49.995349</td>\n",
       "    </tr>\n",
       "    <tr>\n",
       "      <th>artem</th>\n",
       "      <td>2020</td>\n",
       "      <td>5</td>\n",
       "      <td>21</td>\n",
       "      <td>23</td>\n",
       "      <td>49</td>\n",
       "      <td>22</td>\n",
       "      <td>evening</td>\n",
       "      <td>2020-05-21 23:49:22.386789</td>\n",
       "    </tr>\n",
       "    <tr>\n",
       "      <th>artem</th>\n",
       "      <td>2020</td>\n",
       "      <td>5</td>\n",
       "      <td>22</td>\n",
       "      <td>10</td>\n",
       "      <td>36</td>\n",
       "      <td>14</td>\n",
       "      <td>morning</td>\n",
       "      <td>2020-05-22 10:36:14.662600</td>\n",
       "    </tr>\n",
       "  </tbody>\n",
       "</table>\n",
       "<p>1076 rows × 8 columns</p>\n",
       "</div>"
      ],
      "text/plain": [
       "           year  month  day  hour  minute  second        daytime  \\\n",
       "user                                                               \n",
       "artem      2020      4   17    12       1       8      afternoon   \n",
       "artem      2020      4   17    12       1      23      afternoon   \n",
       "artem      2020      4   17    12      27      30      afternoon   \n",
       "artem      2020      4   17    12      35      44      afternoon   \n",
       "artem      2020      4   17    12      35      52      afternoon   \n",
       "...         ...    ...  ...   ...     ...     ...            ...   \n",
       "valentina  2020      5   21    18      45      20  early evening   \n",
       "maxim      2020      5   21    23       3       6        evening   \n",
       "pavel      2020      5   21    23      23      49        evening   \n",
       "artem      2020      5   21    23      49      22        evening   \n",
       "artem      2020      5   22    10      36      14        morning   \n",
       "\n",
       "                            datetime  \n",
       "user                                  \n",
       "artem     2020-04-17 12:01:08.463179  \n",
       "artem     2020-04-17 12:01:23.743946  \n",
       "artem     2020-04-17 12:27:30.646665  \n",
       "artem     2020-04-17 12:35:44.884757  \n",
       "artem     2020-04-17 12:35:52.735016  \n",
       "...                              ...  \n",
       "valentina 2020-05-21 18:45:20.441142  \n",
       "maxim     2020-05-21 23:03:06.457819  \n",
       "pavel     2020-05-21 23:23:49.995349  \n",
       "artem     2020-05-21 23:49:22.386789  \n",
       "artem     2020-05-22 10:36:14.662600  \n",
       "\n",
       "[1076 rows x 8 columns]"
      ]
     },
     "execution_count": 10,
     "metadata": {},
     "output_type": "execute_result"
    }
   ],
   "source": [
    "views.set_index('user')"
   ]
  },
  {
   "cell_type": "markdown",
   "id": "e6090a89",
   "metadata": {},
   "source": [
    "* calculate the number of elements in your dataframe\n",
    "  * use the method `count()`"
   ]
  },
  {
   "cell_type": "code",
   "execution_count": 11,
   "id": "6fe222e1",
   "metadata": {},
   "outputs": [
    {
     "data": {
      "text/plain": [
       "year        1076\n",
       "month       1076\n",
       "day         1076\n",
       "hour        1076\n",
       "minute      1076\n",
       "second      1076\n",
       "daytime     1076\n",
       "datetime    1076\n",
       "user        1076\n",
       "dtype: int64"
      ]
     },
     "execution_count": 11,
     "metadata": {},
     "output_type": "execute_result"
    }
   ],
   "source": [
    "views.count()"
   ]
  },
  {
   "cell_type": "markdown",
   "id": "9e804e1d",
   "metadata": {},
   "source": [
    "* calculate the number of elements in each time of day category using the method\n",
    "  `value_counts()`"
   ]
  },
  {
   "cell_type": "code",
   "execution_count": 12,
   "id": "3ee98582",
   "metadata": {},
   "outputs": [
    {
     "data": {
      "text/plain": [
       "daytime\n",
       "evening          509\n",
       "afternoon        252\n",
       "early evening    145\n",
       "night            129\n",
       "morning           36\n",
       "early morning      5\n",
       "Name: count, dtype: int64"
      ]
     },
     "execution_count": 12,
     "metadata": {},
     "output_type": "execute_result"
    }
   ],
   "source": [
    "views.value_counts(\"daytime\")"
   ]
  },
  {
   "cell_type": "markdown",
   "id": "1f72f9d3",
   "metadata": {},
   "source": [
    "* sort values in your dataframe by hour, minute, and second in ascending order\n",
    "  (simultaneously and not one by one)"
   ]
  },
  {
   "cell_type": "code",
   "execution_count": 13,
   "id": "7ffec3be",
   "metadata": {},
   "outputs": [
    {
     "data": {
      "text/html": [
       "<div>\n",
       "<style scoped>\n",
       "    .dataframe tbody tr th:only-of-type {\n",
       "        vertical-align: middle;\n",
       "    }\n",
       "\n",
       "    .dataframe tbody tr th {\n",
       "        vertical-align: top;\n",
       "    }\n",
       "\n",
       "    .dataframe thead th {\n",
       "        text-align: right;\n",
       "    }\n",
       "</style>\n",
       "<table border=\"1\" class=\"dataframe\">\n",
       "  <thead>\n",
       "    <tr style=\"text-align: right;\">\n",
       "      <th></th>\n",
       "      <th>year</th>\n",
       "      <th>month</th>\n",
       "      <th>day</th>\n",
       "      <th>hour</th>\n",
       "      <th>minute</th>\n",
       "      <th>second</th>\n",
       "      <th>daytime</th>\n",
       "      <th>datetime</th>\n",
       "      <th>user</th>\n",
       "    </tr>\n",
       "  </thead>\n",
       "  <tbody>\n",
       "    <tr>\n",
       "      <th>944</th>\n",
       "      <td>2020</td>\n",
       "      <td>5</td>\n",
       "      <td>15</td>\n",
       "      <td>0</td>\n",
       "      <td>0</td>\n",
       "      <td>13</td>\n",
       "      <td>night</td>\n",
       "      <td>2020-05-15 00:00:13.222265</td>\n",
       "      <td>valentina</td>\n",
       "    </tr>\n",
       "    <tr>\n",
       "      <th>945</th>\n",
       "      <td>2020</td>\n",
       "      <td>5</td>\n",
       "      <td>15</td>\n",
       "      <td>0</td>\n",
       "      <td>1</td>\n",
       "      <td>5</td>\n",
       "      <td>night</td>\n",
       "      <td>2020-05-15 00:01:05.153738</td>\n",
       "      <td>valentina</td>\n",
       "    </tr>\n",
       "    <tr>\n",
       "      <th>563</th>\n",
       "      <td>2020</td>\n",
       "      <td>5</td>\n",
       "      <td>12</td>\n",
       "      <td>0</td>\n",
       "      <td>1</td>\n",
       "      <td>27</td>\n",
       "      <td>night</td>\n",
       "      <td>2020-05-12 00:01:27.764025</td>\n",
       "      <td>pavel</td>\n",
       "    </tr>\n",
       "    <tr>\n",
       "      <th>564</th>\n",
       "      <td>2020</td>\n",
       "      <td>5</td>\n",
       "      <td>12</td>\n",
       "      <td>0</td>\n",
       "      <td>1</td>\n",
       "      <td>38</td>\n",
       "      <td>night</td>\n",
       "      <td>2020-05-12 00:01:38.444917</td>\n",
       "      <td>pavel</td>\n",
       "    </tr>\n",
       "    <tr>\n",
       "      <th>565</th>\n",
       "      <td>2020</td>\n",
       "      <td>5</td>\n",
       "      <td>12</td>\n",
       "      <td>0</td>\n",
       "      <td>1</td>\n",
       "      <td>55</td>\n",
       "      <td>night</td>\n",
       "      <td>2020-05-12 00:01:55.395042</td>\n",
       "      <td>pavel</td>\n",
       "    </tr>\n",
       "    <tr>\n",
       "      <th>...</th>\n",
       "      <td>...</td>\n",
       "      <td>...</td>\n",
       "      <td>...</td>\n",
       "      <td>...</td>\n",
       "      <td>...</td>\n",
       "      <td>...</td>\n",
       "      <td>...</td>\n",
       "      <td>...</td>\n",
       "      <td>...</td>\n",
       "    </tr>\n",
       "    <tr>\n",
       "      <th>1074</th>\n",
       "      <td>2020</td>\n",
       "      <td>5</td>\n",
       "      <td>21</td>\n",
       "      <td>23</td>\n",
       "      <td>49</td>\n",
       "      <td>22</td>\n",
       "      <td>evening</td>\n",
       "      <td>2020-05-21 23:49:22.386789</td>\n",
       "      <td>artem</td>\n",
       "    </tr>\n",
       "    <tr>\n",
       "      <th>246</th>\n",
       "      <td>2020</td>\n",
       "      <td>5</td>\n",
       "      <td>9</td>\n",
       "      <td>23</td>\n",
       "      <td>53</td>\n",
       "      <td>55</td>\n",
       "      <td>evening</td>\n",
       "      <td>2020-05-09 23:53:55.599821</td>\n",
       "      <td>anatoliy</td>\n",
       "    </tr>\n",
       "    <tr>\n",
       "      <th>247</th>\n",
       "      <td>2020</td>\n",
       "      <td>5</td>\n",
       "      <td>9</td>\n",
       "      <td>23</td>\n",
       "      <td>54</td>\n",
       "      <td>54</td>\n",
       "      <td>evening</td>\n",
       "      <td>2020-05-09 23:54:54.260791</td>\n",
       "      <td>pavel</td>\n",
       "    </tr>\n",
       "    <tr>\n",
       "      <th>942</th>\n",
       "      <td>2020</td>\n",
       "      <td>5</td>\n",
       "      <td>14</td>\n",
       "      <td>23</td>\n",
       "      <td>58</td>\n",
       "      <td>56</td>\n",
       "      <td>evening</td>\n",
       "      <td>2020-05-14 23:58:56.754866</td>\n",
       "      <td>valentina</td>\n",
       "    </tr>\n",
       "    <tr>\n",
       "      <th>943</th>\n",
       "      <td>2020</td>\n",
       "      <td>5</td>\n",
       "      <td>14</td>\n",
       "      <td>23</td>\n",
       "      <td>59</td>\n",
       "      <td>38</td>\n",
       "      <td>evening</td>\n",
       "      <td>2020-05-14 23:59:38.758438</td>\n",
       "      <td>alexander</td>\n",
       "    </tr>\n",
       "  </tbody>\n",
       "</table>\n",
       "<p>1076 rows × 9 columns</p>\n",
       "</div>"
      ],
      "text/plain": [
       "      year  month  day  hour  minute  second  daytime  \\\n",
       "944   2020      5   15     0       0      13    night   \n",
       "945   2020      5   15     0       1       5    night   \n",
       "563   2020      5   12     0       1      27    night   \n",
       "564   2020      5   12     0       1      38    night   \n",
       "565   2020      5   12     0       1      55    night   \n",
       "...    ...    ...  ...   ...     ...     ...      ...   \n",
       "1074  2020      5   21    23      49      22  evening   \n",
       "246   2020      5    9    23      53      55  evening   \n",
       "247   2020      5    9    23      54      54  evening   \n",
       "942   2020      5   14    23      58      56  evening   \n",
       "943   2020      5   14    23      59      38  evening   \n",
       "\n",
       "                       datetime       user  \n",
       "944  2020-05-15 00:00:13.222265  valentina  \n",
       "945  2020-05-15 00:01:05.153738  valentina  \n",
       "563  2020-05-12 00:01:27.764025      pavel  \n",
       "564  2020-05-12 00:01:38.444917      pavel  \n",
       "565  2020-05-12 00:01:55.395042      pavel  \n",
       "...                         ...        ...  \n",
       "1074 2020-05-21 23:49:22.386789      artem  \n",
       "246  2020-05-09 23:53:55.599821   anatoliy  \n",
       "247  2020-05-09 23:54:54.260791      pavel  \n",
       "942  2020-05-14 23:58:56.754866  valentina  \n",
       "943  2020-05-14 23:59:38.758438  alexander  \n",
       "\n",
       "[1076 rows x 9 columns]"
      ]
     },
     "execution_count": 13,
     "metadata": {},
     "output_type": "execute_result"
    }
   ],
   "source": [
    "views.sort_values(['hour', 'minute', 'second'], ascending=True)"
   ]
  },
  {
   "cell_type": "markdown",
   "id": "8b2323e9",
   "metadata": {},
   "source": [
    " * calculate the minimum and maximum for the hours and the mode for the daytime\n",
    "  categories\n",
    "  \n",
    "  * calculate the maximum of hour for the rows where the time of day is night"
   ]
  },
  {
   "cell_type": "code",
   "execution_count": null,
   "id": "5abcb9c9",
   "metadata": {},
   "outputs": [
    {
     "data": {
      "text/plain": [
       "np.int32(3)"
      ]
     },
     "execution_count": 22,
     "metadata": {},
     "output_type": "execute_result"
    }
   ],
   "source": [
    "max = views[views['daytime'] == 'night']['hour'].max()"
   ]
  },
  {
   "cell_type": "markdown",
   "id": "4f7fd37b",
   "metadata": {},
   "source": [
    "* calculate the minimum of hour for the rows where the time of day is morning"
   ]
  },
  {
   "cell_type": "code",
   "execution_count": 15,
   "id": "ac121448",
   "metadata": {},
   "outputs": [],
   "source": [
    "min = views[views['daytime'] == 'morning']['hour'].min()"
   ]
  },
  {
   "cell_type": "markdown",
   "id": "fa304b7b",
   "metadata": {},
   "source": [
    " * In addition to this, find out who visited the page at those hours (make one\n",
    "  example from that)"
   ]
  },
  {
   "cell_type": "code",
   "execution_count": 16,
   "id": "d56545f6",
   "metadata": {},
   "outputs": [
    {
     "data": {
      "text/plain": [
       "46    konstantin\n",
       "Name: user, dtype: object"
      ]
     },
     "execution_count": 16,
     "metadata": {},
     "output_type": "execute_result"
    }
   ],
   "source": [
    "views[views['hour'] == max]['user'].drop_duplicates()"
   ]
  },
  {
   "cell_type": "code",
   "execution_count": 17,
   "id": "abf6f09b",
   "metadata": {},
   "outputs": [
    {
     "data": {
      "text/plain": [
       "963    alexander\n",
       "Name: user, dtype: object"
      ]
     },
     "execution_count": 17,
     "metadata": {},
     "output_type": "execute_result"
    }
   ],
   "source": [
    "views[views['hour'] == min]['user'].drop_duplicates()"
   ]
  },
  {
   "cell_type": "markdown",
   "id": "ce9fbfa4",
   "metadata": {},
   "source": [
    "* show the 3 earliest hours in the morning and the corresponding usernames and the\n",
    "  3 latest hours and the usernames using `nsmallest()` and `nlargest()`"
   ]
  },
  {
   "cell_type": "code",
   "execution_count": 18,
   "id": "8b827ce3",
   "metadata": {},
   "outputs": [
    {
     "data": {
      "text/html": [
       "<div>\n",
       "<style scoped>\n",
       "    .dataframe tbody tr th:only-of-type {\n",
       "        vertical-align: middle;\n",
       "    }\n",
       "\n",
       "    .dataframe tbody tr th {\n",
       "        vertical-align: top;\n",
       "    }\n",
       "\n",
       "    .dataframe thead th {\n",
       "        text-align: right;\n",
       "    }\n",
       "</style>\n",
       "<table border=\"1\" class=\"dataframe\">\n",
       "  <thead>\n",
       "    <tr style=\"text-align: right;\">\n",
       "      <th></th>\n",
       "      <th>user</th>\n",
       "      <th>daytime</th>\n",
       "    </tr>\n",
       "  </thead>\n",
       "  <tbody>\n",
       "    <tr>\n",
       "      <th>313</th>\n",
       "      <td>konstantin</td>\n",
       "      <td>early morning</td>\n",
       "    </tr>\n",
       "    <tr>\n",
       "      <th>314</th>\n",
       "      <td>konstantin</td>\n",
       "      <td>early morning</td>\n",
       "    </tr>\n",
       "    <tr>\n",
       "      <th>315</th>\n",
       "      <td>konstantin</td>\n",
       "      <td>early morning</td>\n",
       "    </tr>\n",
       "  </tbody>\n",
       "</table>\n",
       "</div>"
      ],
      "text/plain": [
       "           user        daytime\n",
       "313  konstantin  early morning\n",
       "314  konstantin  early morning\n",
       "315  konstantin  early morning"
      ]
     },
     "execution_count": 18,
     "metadata": {},
     "output_type": "execute_result"
    }
   ],
   "source": [
    "views[views['daytime'] == 'early morning'].nsmallest(3, ['hour', 'minute', 'second'])[['user', 'daytime']]\n"
   ]
  },
  {
   "cell_type": "code",
   "execution_count": 19,
   "id": "86b01d9d",
   "metadata": {},
   "outputs": [
    {
     "data": {
      "text/html": [
       "<div>\n",
       "<style scoped>\n",
       "    .dataframe tbody tr th:only-of-type {\n",
       "        vertical-align: middle;\n",
       "    }\n",
       "\n",
       "    .dataframe tbody tr th {\n",
       "        vertical-align: top;\n",
       "    }\n",
       "\n",
       "    .dataframe thead th {\n",
       "        text-align: right;\n",
       "    }\n",
       "</style>\n",
       "<table border=\"1\" class=\"dataframe\">\n",
       "  <thead>\n",
       "    <tr style=\"text-align: right;\">\n",
       "      <th></th>\n",
       "      <th>user</th>\n",
       "      <th>daytime</th>\n",
       "    </tr>\n",
       "  </thead>\n",
       "  <tbody>\n",
       "    <tr>\n",
       "      <th>317</th>\n",
       "      <td>konstantin</td>\n",
       "      <td>early morning</td>\n",
       "    </tr>\n",
       "    <tr>\n",
       "      <th>316</th>\n",
       "      <td>konstantin</td>\n",
       "      <td>early morning</td>\n",
       "    </tr>\n",
       "    <tr>\n",
       "      <th>315</th>\n",
       "      <td>konstantin</td>\n",
       "      <td>early morning</td>\n",
       "    </tr>\n",
       "  </tbody>\n",
       "</table>\n",
       "</div>"
      ],
      "text/plain": [
       "           user        daytime\n",
       "317  konstantin  early morning\n",
       "316  konstantin  early morning\n",
       "315  konstantin  early morning"
      ]
     },
     "execution_count": 19,
     "metadata": {},
     "output_type": "execute_result"
    }
   ],
   "source": [
    "views[views['daytime'] == 'early morning'].nlargest(3, ['hour', 'minute', 'second'])[['user', 'daytime']]"
   ]
  },
  {
   "cell_type": "markdown",
   "id": "3938b6e6",
   "metadata": {},
   "source": [
    "* calculate the mode for the hour and daytime"
   ]
  },
  {
   "cell_type": "code",
   "execution_count": 24,
   "id": "7f3cc0b6",
   "metadata": {},
   "outputs": [
    {
     "data": {
      "text/plain": [
       "[22]"
      ]
     },
     "execution_count": 24,
     "metadata": {},
     "output_type": "execute_result"
    }
   ],
   "source": [
    "views['hour'].mode().to_list()"
   ]
  },
  {
   "cell_type": "code",
   "execution_count": 25,
   "id": "dbb5dff5",
   "metadata": {},
   "outputs": [
    {
     "data": {
      "text/plain": [
       "[11]"
      ]
     },
     "execution_count": 25,
     "metadata": {},
     "output_type": "execute_result"
    }
   ],
   "source": [
    "views['day'].mode().to_list()"
   ]
  },
  {
   "cell_type": "markdown",
   "id": "1352e342",
   "metadata": {},
   "source": [
    "* use the method `describe()` to get the basic statistics for the columns\n",
    "  * to find out what the most popular interval for visiting the page is, calculate\n",
    "    the interquartile range for the hour by extracting values from the result of the\n",
    "`describe()` method and store it in the variable `iqr`"
   ]
  },
  {
   "cell_type": "code",
   "execution_count": 39,
   "id": "abdbadb2",
   "metadata": {},
   "outputs": [
    {
     "data": {
      "text/html": [
       "<div>\n",
       "<style scoped>\n",
       "    .dataframe tbody tr th:only-of-type {\n",
       "        vertical-align: middle;\n",
       "    }\n",
       "\n",
       "    .dataframe tbody tr th {\n",
       "        vertical-align: top;\n",
       "    }\n",
       "\n",
       "    .dataframe thead th {\n",
       "        text-align: right;\n",
       "    }\n",
       "</style>\n",
       "<table border=\"1\" class=\"dataframe\">\n",
       "  <thead>\n",
       "    <tr style=\"text-align: right;\">\n",
       "      <th></th>\n",
       "      <th>year</th>\n",
       "      <th>month</th>\n",
       "      <th>day</th>\n",
       "      <th>hour</th>\n",
       "      <th>minute</th>\n",
       "      <th>second</th>\n",
       "      <th>datetime</th>\n",
       "    </tr>\n",
       "  </thead>\n",
       "  <tbody>\n",
       "    <tr>\n",
       "      <th>count</th>\n",
       "      <td>1076.0</td>\n",
       "      <td>1076.000000</td>\n",
       "      <td>1076.000000</td>\n",
       "      <td>1076.000000</td>\n",
       "      <td>1076.000000</td>\n",
       "      <td>1076.000000</td>\n",
       "      <td>1076</td>\n",
       "    </tr>\n",
       "    <tr>\n",
       "      <th>mean</th>\n",
       "      <td>2020.0</td>\n",
       "      <td>4.870818</td>\n",
       "      <td>13.552974</td>\n",
       "      <td>16.249071</td>\n",
       "      <td>29.629182</td>\n",
       "      <td>29.500929</td>\n",
       "      <td>2020-05-10 09:00:41.211420672</td>\n",
       "    </tr>\n",
       "    <tr>\n",
       "      <th>min</th>\n",
       "      <td>2020.0</td>\n",
       "      <td>4.000000</td>\n",
       "      <td>1.000000</td>\n",
       "      <td>0.000000</td>\n",
       "      <td>0.000000</td>\n",
       "      <td>0.000000</td>\n",
       "      <td>2020-04-17 12:01:08.463179</td>\n",
       "    </tr>\n",
       "    <tr>\n",
       "      <th>25%</th>\n",
       "      <td>2020.0</td>\n",
       "      <td>5.000000</td>\n",
       "      <td>11.000000</td>\n",
       "      <td>13.000000</td>\n",
       "      <td>14.000000</td>\n",
       "      <td>14.000000</td>\n",
       "      <td>2020-05-10 01:13:49.857472</td>\n",
       "    </tr>\n",
       "    <tr>\n",
       "      <th>50%</th>\n",
       "      <td>2020.0</td>\n",
       "      <td>5.000000</td>\n",
       "      <td>13.000000</td>\n",
       "      <td>19.000000</td>\n",
       "      <td>29.000000</td>\n",
       "      <td>30.000000</td>\n",
       "      <td>2020-05-11 22:48:35.302552832</td>\n",
       "    </tr>\n",
       "    <tr>\n",
       "      <th>75%</th>\n",
       "      <td>2020.0</td>\n",
       "      <td>5.000000</td>\n",
       "      <td>15.000000</td>\n",
       "      <td>22.000000</td>\n",
       "      <td>46.000000</td>\n",
       "      <td>45.000000</td>\n",
       "      <td>2020-05-14 14:44:34.749530624</td>\n",
       "    </tr>\n",
       "    <tr>\n",
       "      <th>max</th>\n",
       "      <td>2020.0</td>\n",
       "      <td>5.000000</td>\n",
       "      <td>30.000000</td>\n",
       "      <td>23.000000</td>\n",
       "      <td>59.000000</td>\n",
       "      <td>59.000000</td>\n",
       "      <td>2020-05-22 10:36:14.662600</td>\n",
       "    </tr>\n",
       "    <tr>\n",
       "      <th>std</th>\n",
       "      <td>0.0</td>\n",
       "      <td>0.335557</td>\n",
       "      <td>4.906567</td>\n",
       "      <td>6.955490</td>\n",
       "      <td>17.689388</td>\n",
       "      <td>17.405506</td>\n",
       "      <td>NaN</td>\n",
       "    </tr>\n",
       "  </tbody>\n",
       "</table>\n",
       "</div>"
      ],
      "text/plain": [
       "         year        month          day         hour       minute  \\\n",
       "count  1076.0  1076.000000  1076.000000  1076.000000  1076.000000   \n",
       "mean   2020.0     4.870818    13.552974    16.249071    29.629182   \n",
       "min    2020.0     4.000000     1.000000     0.000000     0.000000   \n",
       "25%    2020.0     5.000000    11.000000    13.000000    14.000000   \n",
       "50%    2020.0     5.000000    13.000000    19.000000    29.000000   \n",
       "75%    2020.0     5.000000    15.000000    22.000000    46.000000   \n",
       "max    2020.0     5.000000    30.000000    23.000000    59.000000   \n",
       "std       0.0     0.335557     4.906567     6.955490    17.689388   \n",
       "\n",
       "            second                       datetime  \n",
       "count  1076.000000                           1076  \n",
       "mean     29.500929  2020-05-10 09:00:41.211420672  \n",
       "min       0.000000     2020-04-17 12:01:08.463179  \n",
       "25%      14.000000     2020-05-10 01:13:49.857472  \n",
       "50%      30.000000  2020-05-11 22:48:35.302552832  \n",
       "75%      45.000000  2020-05-14 14:44:34.749530624  \n",
       "max      59.000000     2020-05-22 10:36:14.662600  \n",
       "std      17.405506                            NaN  "
      ]
     },
     "execution_count": 39,
     "metadata": {},
     "output_type": "execute_result"
    }
   ],
   "source": [
    "stats = views.describe()\n",
    "stats"
   ]
  },
  {
   "cell_type": "code",
   "execution_count": 42,
   "id": "afaf2ffa",
   "metadata": {},
   "outputs": [],
   "source": [
    "iqr = stats.loc['75%', 'hour'] - stats.loc['25%', 'hour']"
   ]
  }
 ],
 "metadata": {
  "kernelspec": {
   "display_name": "Python 3",
   "language": "python",
   "name": "python3"
  },
  "language_info": {
   "codemirror_mode": {
    "name": "ipython",
    "version": 3
   },
   "file_extension": ".py",
   "mimetype": "text/x-python",
   "name": "python",
   "nbconvert_exporter": "python",
   "pygments_lexer": "ipython3",
   "version": "3.13.3"
  }
 },
 "nbformat": 4,
 "nbformat_minor": 5
}
