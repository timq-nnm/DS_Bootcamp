{
 "cells": [
  {
   "cell_type": "markdown",
   "id": "a868589b",
   "metadata": {},
   "source": [
    "## Exercise 05 : Pandas optimizations"
   ]
  },
  {
   "cell_type": "code",
   "execution_count": 293,
   "id": "e499ce85",
   "metadata": {},
   "outputs": [],
   "source": [
    "import pandas as pd\n",
    "import gc"
   ]
  },
  {
   "cell_type": "markdown",
   "id": "b7ba304d",
   "metadata": {},
   "source": [
    "### read the fines.csv that you saved in the previous exercise"
   ]
  },
  {
   "cell_type": "code",
   "execution_count": 294,
   "id": "6ab3ef81",
   "metadata": {},
   "outputs": [],
   "source": [
    "df = pd.read_csv('../data/fines.csv')"
   ]
  },
  {
   "cell_type": "code",
   "execution_count": 295,
   "id": "8a5740de",
   "metadata": {},
   "outputs": [
    {
     "data": {
      "text/html": [
       "<div>\n",
       "<style scoped>\n",
       "    .dataframe tbody tr th:only-of-type {\n",
       "        vertical-align: middle;\n",
       "    }\n",
       "\n",
       "    .dataframe tbody tr th {\n",
       "        vertical-align: top;\n",
       "    }\n",
       "\n",
       "    .dataframe thead th {\n",
       "        text-align: right;\n",
       "    }\n",
       "</style>\n",
       "<table border=\"1\" class=\"dataframe\">\n",
       "  <thead>\n",
       "    <tr style=\"text-align: right;\">\n",
       "      <th></th>\n",
       "      <th>CarNumber</th>\n",
       "      <th>Refund</th>\n",
       "      <th>Fines</th>\n",
       "      <th>Make</th>\n",
       "      <th>Model</th>\n",
       "      <th>Year</th>\n",
       "    </tr>\n",
       "  </thead>\n",
       "  <tbody>\n",
       "    <tr>\n",
       "      <th>0</th>\n",
       "      <td>Y163O8161RUS</td>\n",
       "      <td>2</td>\n",
       "      <td>3200.0</td>\n",
       "      <td>Ford</td>\n",
       "      <td>Focus</td>\n",
       "      <td>1989</td>\n",
       "    </tr>\n",
       "    <tr>\n",
       "      <th>1</th>\n",
       "      <td>E432XX77RUS</td>\n",
       "      <td>1</td>\n",
       "      <td>6500.0</td>\n",
       "      <td>Toyota</td>\n",
       "      <td>Camry</td>\n",
       "      <td>1995</td>\n",
       "    </tr>\n",
       "    <tr>\n",
       "      <th>2</th>\n",
       "      <td>7184TT36RUS</td>\n",
       "      <td>1</td>\n",
       "      <td>2100.0</td>\n",
       "      <td>Ford</td>\n",
       "      <td>Focus</td>\n",
       "      <td>1984</td>\n",
       "    </tr>\n",
       "    <tr>\n",
       "      <th>3</th>\n",
       "      <td>X582HE161RUS</td>\n",
       "      <td>2</td>\n",
       "      <td>2000.0</td>\n",
       "      <td>Ford</td>\n",
       "      <td>Focus</td>\n",
       "      <td>2015</td>\n",
       "    </tr>\n",
       "    <tr>\n",
       "      <th>4</th>\n",
       "      <td>92918M178RUS</td>\n",
       "      <td>1</td>\n",
       "      <td>5700.0</td>\n",
       "      <td>Ford</td>\n",
       "      <td>Focus</td>\n",
       "      <td>2014</td>\n",
       "    </tr>\n",
       "    <tr>\n",
       "      <th>...</th>\n",
       "      <td>...</td>\n",
       "      <td>...</td>\n",
       "      <td>...</td>\n",
       "      <td>...</td>\n",
       "      <td>...</td>\n",
       "      <td>...</td>\n",
       "    </tr>\n",
       "    <tr>\n",
       "      <th>920</th>\n",
       "      <td>8182XX154RUS</td>\n",
       "      <td>1</td>\n",
       "      <td>200.0</td>\n",
       "      <td>Ford</td>\n",
       "      <td>Focus</td>\n",
       "      <td>1996</td>\n",
       "    </tr>\n",
       "    <tr>\n",
       "      <th>921</th>\n",
       "      <td>X796TH96RUS</td>\n",
       "      <td>1</td>\n",
       "      <td>500.0</td>\n",
       "      <td>Ford</td>\n",
       "      <td>Focus</td>\n",
       "      <td>2002</td>\n",
       "    </tr>\n",
       "    <tr>\n",
       "      <th>922</th>\n",
       "      <td>T011MY163RUS</td>\n",
       "      <td>2</td>\n",
       "      <td>4000.0</td>\n",
       "      <td>Ford</td>\n",
       "      <td>Focus</td>\n",
       "      <td>1996</td>\n",
       "    </tr>\n",
       "    <tr>\n",
       "      <th>923</th>\n",
       "      <td>T341CC96RUS</td>\n",
       "      <td>2</td>\n",
       "      <td>1000.0</td>\n",
       "      <td>Volkswagen</td>\n",
       "      <td>Passat</td>\n",
       "      <td>2012</td>\n",
       "    </tr>\n",
       "    <tr>\n",
       "      <th>924</th>\n",
       "      <td>T119CT96RUS</td>\n",
       "      <td>1</td>\n",
       "      <td>2000.0</td>\n",
       "      <td>Ford</td>\n",
       "      <td>Focus</td>\n",
       "      <td>1984</td>\n",
       "    </tr>\n",
       "  </tbody>\n",
       "</table>\n",
       "<p>925 rows × 6 columns</p>\n",
       "</div>"
      ],
      "text/plain": [
       "        CarNumber  Refund   Fines        Make   Model  Year\n",
       "0    Y163O8161RUS       2  3200.0        Ford   Focus  1989\n",
       "1     E432XX77RUS       1  6500.0      Toyota   Camry  1995\n",
       "2     7184TT36RUS       1  2100.0        Ford   Focus  1984\n",
       "3    X582HE161RUS       2  2000.0        Ford   Focus  2015\n",
       "4    92918M178RUS       1  5700.0        Ford   Focus  2014\n",
       "..            ...     ...     ...         ...     ...   ...\n",
       "920  8182XX154RUS       1   200.0        Ford   Focus  1996\n",
       "921   X796TH96RUS       1   500.0        Ford   Focus  2002\n",
       "922  T011MY163RUS       2  4000.0        Ford   Focus  1996\n",
       "923   T341CC96RUS       2  1000.0  Volkswagen  Passat  2012\n",
       "924   T119CT96RUS       1  2000.0        Ford   Focus  1984\n",
       "\n",
       "[925 rows x 6 columns]"
      ]
     },
     "execution_count": 295,
     "metadata": {},
     "output_type": "execute_result"
    }
   ],
   "source": [
    "df"
   ]
  },
  {
   "cell_type": "markdown",
   "id": "4c001ac5",
   "metadata": {},
   "source": [
    "### iterations: in all the following subtasks, you need to calculate fines/refund*year for each row and create a new column with the calculated data and measure the time using the magic command %%timeit in the cell"
   ]
  },
  {
   "cell_type": "markdown",
   "id": "d1d85e23",
   "metadata": {},
   "source": [
    "* loop: write a function that iterates through the dataframe using for i in range(0, len(df)), iloc and append() to a list, assign the result of the function to a new column in the dataframe"
   ]
  },
  {
   "cell_type": "code",
   "execution_count": 296,
   "id": "049851d3",
   "metadata": {},
   "outputs": [],
   "source": [
    "def iterate(df):\n",
    "    result_list = list()\n",
    "    for i in range(len(df)):\n",
    "        res = df.iloc[i, 2] / df.iloc[i, 1] * df.iloc[i, 5]\n",
    "        result_list.append(res)\n",
    "\n",
    "    df['Result'] = result_list\n"
   ]
  },
  {
   "cell_type": "code",
   "execution_count": 297,
   "id": "f72298cc",
   "metadata": {},
   "outputs": [
    {
     "name": "stdout",
     "output_type": "stream",
     "text": [
      "145 ms ± 0 ns per loop (mean ± std. dev. of 1 run, 1 loop each)\n"
     ]
    }
   ],
   "source": [
    "%%timeit -r1 -n1\n",
    "iterate(df)"
   ]
  },
  {
   "cell_type": "code",
   "execution_count": 298,
   "id": "0bc29175",
   "metadata": {},
   "outputs": [
    {
     "data": {
      "text/html": [
       "<div>\n",
       "<style scoped>\n",
       "    .dataframe tbody tr th:only-of-type {\n",
       "        vertical-align: middle;\n",
       "    }\n",
       "\n",
       "    .dataframe tbody tr th {\n",
       "        vertical-align: top;\n",
       "    }\n",
       "\n",
       "    .dataframe thead th {\n",
       "        text-align: right;\n",
       "    }\n",
       "</style>\n",
       "<table border=\"1\" class=\"dataframe\">\n",
       "  <thead>\n",
       "    <tr style=\"text-align: right;\">\n",
       "      <th></th>\n",
       "      <th>CarNumber</th>\n",
       "      <th>Refund</th>\n",
       "      <th>Fines</th>\n",
       "      <th>Make</th>\n",
       "      <th>Model</th>\n",
       "      <th>Year</th>\n",
       "      <th>Result</th>\n",
       "    </tr>\n",
       "  </thead>\n",
       "  <tbody>\n",
       "    <tr>\n",
       "      <th>0</th>\n",
       "      <td>Y163O8161RUS</td>\n",
       "      <td>2</td>\n",
       "      <td>3200.0</td>\n",
       "      <td>Ford</td>\n",
       "      <td>Focus</td>\n",
       "      <td>1989</td>\n",
       "      <td>3182400.0</td>\n",
       "    </tr>\n",
       "    <tr>\n",
       "      <th>1</th>\n",
       "      <td>E432XX77RUS</td>\n",
       "      <td>1</td>\n",
       "      <td>6500.0</td>\n",
       "      <td>Toyota</td>\n",
       "      <td>Camry</td>\n",
       "      <td>1995</td>\n",
       "      <td>12967500.0</td>\n",
       "    </tr>\n",
       "    <tr>\n",
       "      <th>2</th>\n",
       "      <td>7184TT36RUS</td>\n",
       "      <td>1</td>\n",
       "      <td>2100.0</td>\n",
       "      <td>Ford</td>\n",
       "      <td>Focus</td>\n",
       "      <td>1984</td>\n",
       "      <td>4166400.0</td>\n",
       "    </tr>\n",
       "    <tr>\n",
       "      <th>3</th>\n",
       "      <td>X582HE161RUS</td>\n",
       "      <td>2</td>\n",
       "      <td>2000.0</td>\n",
       "      <td>Ford</td>\n",
       "      <td>Focus</td>\n",
       "      <td>2015</td>\n",
       "      <td>2015000.0</td>\n",
       "    </tr>\n",
       "    <tr>\n",
       "      <th>4</th>\n",
       "      <td>92918M178RUS</td>\n",
       "      <td>1</td>\n",
       "      <td>5700.0</td>\n",
       "      <td>Ford</td>\n",
       "      <td>Focus</td>\n",
       "      <td>2014</td>\n",
       "      <td>11479800.0</td>\n",
       "    </tr>\n",
       "    <tr>\n",
       "      <th>...</th>\n",
       "      <td>...</td>\n",
       "      <td>...</td>\n",
       "      <td>...</td>\n",
       "      <td>...</td>\n",
       "      <td>...</td>\n",
       "      <td>...</td>\n",
       "      <td>...</td>\n",
       "    </tr>\n",
       "    <tr>\n",
       "      <th>920</th>\n",
       "      <td>8182XX154RUS</td>\n",
       "      <td>1</td>\n",
       "      <td>200.0</td>\n",
       "      <td>Ford</td>\n",
       "      <td>Focus</td>\n",
       "      <td>1996</td>\n",
       "      <td>399200.0</td>\n",
       "    </tr>\n",
       "    <tr>\n",
       "      <th>921</th>\n",
       "      <td>X796TH96RUS</td>\n",
       "      <td>1</td>\n",
       "      <td>500.0</td>\n",
       "      <td>Ford</td>\n",
       "      <td>Focus</td>\n",
       "      <td>2002</td>\n",
       "      <td>1001000.0</td>\n",
       "    </tr>\n",
       "    <tr>\n",
       "      <th>922</th>\n",
       "      <td>T011MY163RUS</td>\n",
       "      <td>2</td>\n",
       "      <td>4000.0</td>\n",
       "      <td>Ford</td>\n",
       "      <td>Focus</td>\n",
       "      <td>1996</td>\n",
       "      <td>3992000.0</td>\n",
       "    </tr>\n",
       "    <tr>\n",
       "      <th>923</th>\n",
       "      <td>T341CC96RUS</td>\n",
       "      <td>2</td>\n",
       "      <td>1000.0</td>\n",
       "      <td>Volkswagen</td>\n",
       "      <td>Passat</td>\n",
       "      <td>2012</td>\n",
       "      <td>1006000.0</td>\n",
       "    </tr>\n",
       "    <tr>\n",
       "      <th>924</th>\n",
       "      <td>T119CT96RUS</td>\n",
       "      <td>1</td>\n",
       "      <td>2000.0</td>\n",
       "      <td>Ford</td>\n",
       "      <td>Focus</td>\n",
       "      <td>1984</td>\n",
       "      <td>3968000.0</td>\n",
       "    </tr>\n",
       "  </tbody>\n",
       "</table>\n",
       "<p>925 rows × 7 columns</p>\n",
       "</div>"
      ],
      "text/plain": [
       "        CarNumber  Refund   Fines        Make   Model  Year      Result\n",
       "0    Y163O8161RUS       2  3200.0        Ford   Focus  1989   3182400.0\n",
       "1     E432XX77RUS       1  6500.0      Toyota   Camry  1995  12967500.0\n",
       "2     7184TT36RUS       1  2100.0        Ford   Focus  1984   4166400.0\n",
       "3    X582HE161RUS       2  2000.0        Ford   Focus  2015   2015000.0\n",
       "4    92918M178RUS       1  5700.0        Ford   Focus  2014  11479800.0\n",
       "..            ...     ...     ...         ...     ...   ...         ...\n",
       "920  8182XX154RUS       1   200.0        Ford   Focus  1996    399200.0\n",
       "921   X796TH96RUS       1   500.0        Ford   Focus  2002   1001000.0\n",
       "922  T011MY163RUS       2  4000.0        Ford   Focus  1996   3992000.0\n",
       "923   T341CC96RUS       2  1000.0  Volkswagen  Passat  2012   1006000.0\n",
       "924   T119CT96RUS       1  2000.0        Ford   Focus  1984   3968000.0\n",
       "\n",
       "[925 rows x 7 columns]"
      ]
     },
     "execution_count": 298,
     "metadata": {},
     "output_type": "execute_result"
    }
   ],
   "source": [
    "df"
   ]
  },
  {
   "cell_type": "code",
   "execution_count": 299,
   "id": "12545636",
   "metadata": {},
   "outputs": [],
   "source": [
    "df.drop(columns='Result', inplace=True)"
   ]
  },
  {
   "cell_type": "markdown",
   "id": "6f683c4b",
   "metadata": {},
   "source": [
    "* do it using iterrows()"
   ]
  },
  {
   "cell_type": "code",
   "execution_count": 300,
   "id": "bcc787a1",
   "metadata": {},
   "outputs": [],
   "source": [
    "def iterate_irrows(df):\n",
    "    result_list = list()\n",
    "    for index, rows in df.iterrows() :\n",
    "        res = rows['Fines'] / rows['Refund'] * rows['Year']\n",
    "        result_list.append(res)\n",
    "\n",
    "    df['Result'] = result_list"
   ]
  },
  {
   "cell_type": "code",
   "execution_count": 301,
   "id": "2020bcc6",
   "metadata": {},
   "outputs": [
    {
     "name": "stdout",
     "output_type": "stream",
     "text": [
      "53.2 ms ± 0 ns per loop (mean ± std. dev. of 1 run, 1 loop each)\n"
     ]
    }
   ],
   "source": [
    "%%timeit -r1 -n1\n",
    "iterate_irrows(df)"
   ]
  },
  {
   "cell_type": "code",
   "execution_count": 302,
   "id": "e5f1ce77",
   "metadata": {},
   "outputs": [
    {
     "data": {
      "text/html": [
       "<div>\n",
       "<style scoped>\n",
       "    .dataframe tbody tr th:only-of-type {\n",
       "        vertical-align: middle;\n",
       "    }\n",
       "\n",
       "    .dataframe tbody tr th {\n",
       "        vertical-align: top;\n",
       "    }\n",
       "\n",
       "    .dataframe thead th {\n",
       "        text-align: right;\n",
       "    }\n",
       "</style>\n",
       "<table border=\"1\" class=\"dataframe\">\n",
       "  <thead>\n",
       "    <tr style=\"text-align: right;\">\n",
       "      <th></th>\n",
       "      <th>CarNumber</th>\n",
       "      <th>Refund</th>\n",
       "      <th>Fines</th>\n",
       "      <th>Make</th>\n",
       "      <th>Model</th>\n",
       "      <th>Year</th>\n",
       "      <th>Result</th>\n",
       "    </tr>\n",
       "  </thead>\n",
       "  <tbody>\n",
       "    <tr>\n",
       "      <th>0</th>\n",
       "      <td>Y163O8161RUS</td>\n",
       "      <td>2</td>\n",
       "      <td>3200.0</td>\n",
       "      <td>Ford</td>\n",
       "      <td>Focus</td>\n",
       "      <td>1989</td>\n",
       "      <td>3182400.0</td>\n",
       "    </tr>\n",
       "    <tr>\n",
       "      <th>1</th>\n",
       "      <td>E432XX77RUS</td>\n",
       "      <td>1</td>\n",
       "      <td>6500.0</td>\n",
       "      <td>Toyota</td>\n",
       "      <td>Camry</td>\n",
       "      <td>1995</td>\n",
       "      <td>12967500.0</td>\n",
       "    </tr>\n",
       "    <tr>\n",
       "      <th>2</th>\n",
       "      <td>7184TT36RUS</td>\n",
       "      <td>1</td>\n",
       "      <td>2100.0</td>\n",
       "      <td>Ford</td>\n",
       "      <td>Focus</td>\n",
       "      <td>1984</td>\n",
       "      <td>4166400.0</td>\n",
       "    </tr>\n",
       "    <tr>\n",
       "      <th>3</th>\n",
       "      <td>X582HE161RUS</td>\n",
       "      <td>2</td>\n",
       "      <td>2000.0</td>\n",
       "      <td>Ford</td>\n",
       "      <td>Focus</td>\n",
       "      <td>2015</td>\n",
       "      <td>2015000.0</td>\n",
       "    </tr>\n",
       "    <tr>\n",
       "      <th>4</th>\n",
       "      <td>92918M178RUS</td>\n",
       "      <td>1</td>\n",
       "      <td>5700.0</td>\n",
       "      <td>Ford</td>\n",
       "      <td>Focus</td>\n",
       "      <td>2014</td>\n",
       "      <td>11479800.0</td>\n",
       "    </tr>\n",
       "    <tr>\n",
       "      <th>...</th>\n",
       "      <td>...</td>\n",
       "      <td>...</td>\n",
       "      <td>...</td>\n",
       "      <td>...</td>\n",
       "      <td>...</td>\n",
       "      <td>...</td>\n",
       "      <td>...</td>\n",
       "    </tr>\n",
       "    <tr>\n",
       "      <th>920</th>\n",
       "      <td>8182XX154RUS</td>\n",
       "      <td>1</td>\n",
       "      <td>200.0</td>\n",
       "      <td>Ford</td>\n",
       "      <td>Focus</td>\n",
       "      <td>1996</td>\n",
       "      <td>399200.0</td>\n",
       "    </tr>\n",
       "    <tr>\n",
       "      <th>921</th>\n",
       "      <td>X796TH96RUS</td>\n",
       "      <td>1</td>\n",
       "      <td>500.0</td>\n",
       "      <td>Ford</td>\n",
       "      <td>Focus</td>\n",
       "      <td>2002</td>\n",
       "      <td>1001000.0</td>\n",
       "    </tr>\n",
       "    <tr>\n",
       "      <th>922</th>\n",
       "      <td>T011MY163RUS</td>\n",
       "      <td>2</td>\n",
       "      <td>4000.0</td>\n",
       "      <td>Ford</td>\n",
       "      <td>Focus</td>\n",
       "      <td>1996</td>\n",
       "      <td>3992000.0</td>\n",
       "    </tr>\n",
       "    <tr>\n",
       "      <th>923</th>\n",
       "      <td>T341CC96RUS</td>\n",
       "      <td>2</td>\n",
       "      <td>1000.0</td>\n",
       "      <td>Volkswagen</td>\n",
       "      <td>Passat</td>\n",
       "      <td>2012</td>\n",
       "      <td>1006000.0</td>\n",
       "    </tr>\n",
       "    <tr>\n",
       "      <th>924</th>\n",
       "      <td>T119CT96RUS</td>\n",
       "      <td>1</td>\n",
       "      <td>2000.0</td>\n",
       "      <td>Ford</td>\n",
       "      <td>Focus</td>\n",
       "      <td>1984</td>\n",
       "      <td>3968000.0</td>\n",
       "    </tr>\n",
       "  </tbody>\n",
       "</table>\n",
       "<p>925 rows × 7 columns</p>\n",
       "</div>"
      ],
      "text/plain": [
       "        CarNumber  Refund   Fines        Make   Model  Year      Result\n",
       "0    Y163O8161RUS       2  3200.0        Ford   Focus  1989   3182400.0\n",
       "1     E432XX77RUS       1  6500.0      Toyota   Camry  1995  12967500.0\n",
       "2     7184TT36RUS       1  2100.0        Ford   Focus  1984   4166400.0\n",
       "3    X582HE161RUS       2  2000.0        Ford   Focus  2015   2015000.0\n",
       "4    92918M178RUS       1  5700.0        Ford   Focus  2014  11479800.0\n",
       "..            ...     ...     ...         ...     ...   ...         ...\n",
       "920  8182XX154RUS       1   200.0        Ford   Focus  1996    399200.0\n",
       "921   X796TH96RUS       1   500.0        Ford   Focus  2002   1001000.0\n",
       "922  T011MY163RUS       2  4000.0        Ford   Focus  1996   3992000.0\n",
       "923   T341CC96RUS       2  1000.0  Volkswagen  Passat  2012   1006000.0\n",
       "924   T119CT96RUS       1  2000.0        Ford   Focus  1984   3968000.0\n",
       "\n",
       "[925 rows x 7 columns]"
      ]
     },
     "execution_count": 302,
     "metadata": {},
     "output_type": "execute_result"
    }
   ],
   "source": [
    "df"
   ]
  },
  {
   "cell_type": "code",
   "execution_count": 303,
   "id": "0c83c772",
   "metadata": {},
   "outputs": [],
   "source": [
    "df.drop(columns='Result', inplace=True)"
   ]
  },
  {
   "cell_type": "markdown",
   "id": "367fa6b7",
   "metadata": {},
   "source": [
    "* do it using apply() and lambda function"
   ]
  },
  {
   "cell_type": "code",
   "execution_count": 304,
   "id": "24f54bb5",
   "metadata": {},
   "outputs": [],
   "source": [
    "def iterate_apply(df: pd.DataFrame):\n",
    "    df['Result'] = df.apply(lambda x: x['Fines'] / x['Refund'] * x['Year'], axis=1)"
   ]
  },
  {
   "cell_type": "code",
   "execution_count": 305,
   "id": "0c46aab4",
   "metadata": {},
   "outputs": [
    {
     "name": "stdout",
     "output_type": "stream",
     "text": [
      "11.7 ms ± 0 ns per loop (mean ± std. dev. of 1 run, 1 loop each)\n"
     ]
    }
   ],
   "source": [
    "%%timeit -r1 -n1\n",
    "iterate_apply(df)"
   ]
  },
  {
   "cell_type": "code",
   "execution_count": 306,
   "id": "0990f346",
   "metadata": {},
   "outputs": [
    {
     "data": {
      "text/html": [
       "<div>\n",
       "<style scoped>\n",
       "    .dataframe tbody tr th:only-of-type {\n",
       "        vertical-align: middle;\n",
       "    }\n",
       "\n",
       "    .dataframe tbody tr th {\n",
       "        vertical-align: top;\n",
       "    }\n",
       "\n",
       "    .dataframe thead th {\n",
       "        text-align: right;\n",
       "    }\n",
       "</style>\n",
       "<table border=\"1\" class=\"dataframe\">\n",
       "  <thead>\n",
       "    <tr style=\"text-align: right;\">\n",
       "      <th></th>\n",
       "      <th>CarNumber</th>\n",
       "      <th>Refund</th>\n",
       "      <th>Fines</th>\n",
       "      <th>Make</th>\n",
       "      <th>Model</th>\n",
       "      <th>Year</th>\n",
       "      <th>Result</th>\n",
       "    </tr>\n",
       "  </thead>\n",
       "  <tbody>\n",
       "    <tr>\n",
       "      <th>0</th>\n",
       "      <td>Y163O8161RUS</td>\n",
       "      <td>2</td>\n",
       "      <td>3200.0</td>\n",
       "      <td>Ford</td>\n",
       "      <td>Focus</td>\n",
       "      <td>1989</td>\n",
       "      <td>3182400.0</td>\n",
       "    </tr>\n",
       "    <tr>\n",
       "      <th>1</th>\n",
       "      <td>E432XX77RUS</td>\n",
       "      <td>1</td>\n",
       "      <td>6500.0</td>\n",
       "      <td>Toyota</td>\n",
       "      <td>Camry</td>\n",
       "      <td>1995</td>\n",
       "      <td>12967500.0</td>\n",
       "    </tr>\n",
       "    <tr>\n",
       "      <th>2</th>\n",
       "      <td>7184TT36RUS</td>\n",
       "      <td>1</td>\n",
       "      <td>2100.0</td>\n",
       "      <td>Ford</td>\n",
       "      <td>Focus</td>\n",
       "      <td>1984</td>\n",
       "      <td>4166400.0</td>\n",
       "    </tr>\n",
       "    <tr>\n",
       "      <th>3</th>\n",
       "      <td>X582HE161RUS</td>\n",
       "      <td>2</td>\n",
       "      <td>2000.0</td>\n",
       "      <td>Ford</td>\n",
       "      <td>Focus</td>\n",
       "      <td>2015</td>\n",
       "      <td>2015000.0</td>\n",
       "    </tr>\n",
       "    <tr>\n",
       "      <th>4</th>\n",
       "      <td>92918M178RUS</td>\n",
       "      <td>1</td>\n",
       "      <td>5700.0</td>\n",
       "      <td>Ford</td>\n",
       "      <td>Focus</td>\n",
       "      <td>2014</td>\n",
       "      <td>11479800.0</td>\n",
       "    </tr>\n",
       "    <tr>\n",
       "      <th>...</th>\n",
       "      <td>...</td>\n",
       "      <td>...</td>\n",
       "      <td>...</td>\n",
       "      <td>...</td>\n",
       "      <td>...</td>\n",
       "      <td>...</td>\n",
       "      <td>...</td>\n",
       "    </tr>\n",
       "    <tr>\n",
       "      <th>920</th>\n",
       "      <td>8182XX154RUS</td>\n",
       "      <td>1</td>\n",
       "      <td>200.0</td>\n",
       "      <td>Ford</td>\n",
       "      <td>Focus</td>\n",
       "      <td>1996</td>\n",
       "      <td>399200.0</td>\n",
       "    </tr>\n",
       "    <tr>\n",
       "      <th>921</th>\n",
       "      <td>X796TH96RUS</td>\n",
       "      <td>1</td>\n",
       "      <td>500.0</td>\n",
       "      <td>Ford</td>\n",
       "      <td>Focus</td>\n",
       "      <td>2002</td>\n",
       "      <td>1001000.0</td>\n",
       "    </tr>\n",
       "    <tr>\n",
       "      <th>922</th>\n",
       "      <td>T011MY163RUS</td>\n",
       "      <td>2</td>\n",
       "      <td>4000.0</td>\n",
       "      <td>Ford</td>\n",
       "      <td>Focus</td>\n",
       "      <td>1996</td>\n",
       "      <td>3992000.0</td>\n",
       "    </tr>\n",
       "    <tr>\n",
       "      <th>923</th>\n",
       "      <td>T341CC96RUS</td>\n",
       "      <td>2</td>\n",
       "      <td>1000.0</td>\n",
       "      <td>Volkswagen</td>\n",
       "      <td>Passat</td>\n",
       "      <td>2012</td>\n",
       "      <td>1006000.0</td>\n",
       "    </tr>\n",
       "    <tr>\n",
       "      <th>924</th>\n",
       "      <td>T119CT96RUS</td>\n",
       "      <td>1</td>\n",
       "      <td>2000.0</td>\n",
       "      <td>Ford</td>\n",
       "      <td>Focus</td>\n",
       "      <td>1984</td>\n",
       "      <td>3968000.0</td>\n",
       "    </tr>\n",
       "  </tbody>\n",
       "</table>\n",
       "<p>925 rows × 7 columns</p>\n",
       "</div>"
      ],
      "text/plain": [
       "        CarNumber  Refund   Fines        Make   Model  Year      Result\n",
       "0    Y163O8161RUS       2  3200.0        Ford   Focus  1989   3182400.0\n",
       "1     E432XX77RUS       1  6500.0      Toyota   Camry  1995  12967500.0\n",
       "2     7184TT36RUS       1  2100.0        Ford   Focus  1984   4166400.0\n",
       "3    X582HE161RUS       2  2000.0        Ford   Focus  2015   2015000.0\n",
       "4    92918M178RUS       1  5700.0        Ford   Focus  2014  11479800.0\n",
       "..            ...     ...     ...         ...     ...   ...         ...\n",
       "920  8182XX154RUS       1   200.0        Ford   Focus  1996    399200.0\n",
       "921   X796TH96RUS       1   500.0        Ford   Focus  2002   1001000.0\n",
       "922  T011MY163RUS       2  4000.0        Ford   Focus  1996   3992000.0\n",
       "923   T341CC96RUS       2  1000.0  Volkswagen  Passat  2012   1006000.0\n",
       "924   T119CT96RUS       1  2000.0        Ford   Focus  1984   3968000.0\n",
       "\n",
       "[925 rows x 7 columns]"
      ]
     },
     "execution_count": 306,
     "metadata": {},
     "output_type": "execute_result"
    }
   ],
   "source": [
    "df"
   ]
  },
  {
   "cell_type": "code",
   "execution_count": 307,
   "id": "0635d68a",
   "metadata": {},
   "outputs": [],
   "source": [
    "df.drop(columns='Result', inplace=True)"
   ]
  },
  {
   "cell_type": "markdown",
   "id": "4568d431",
   "metadata": {},
   "source": [
    "* do it using Series objects from the dataframe"
   ]
  },
  {
   "cell_type": "code",
   "execution_count": 309,
   "id": "54e17376",
   "metadata": {},
   "outputs": [
    {
     "name": "stdout",
     "output_type": "stream",
     "text": [
      "631 μs ± 0 ns per loop (mean ± std. dev. of 1 run, 1 loop each)\n"
     ]
    }
   ],
   "source": [
    "%%timeit -r1 -n1\n",
    "df['Result'] = df['Fines'] / df['Refund'] * df['Year']"
   ]
  },
  {
   "cell_type": "code",
   "execution_count": 310,
   "id": "4ab4ba74",
   "metadata": {},
   "outputs": [
    {
     "data": {
      "text/html": [
       "<div>\n",
       "<style scoped>\n",
       "    .dataframe tbody tr th:only-of-type {\n",
       "        vertical-align: middle;\n",
       "    }\n",
       "\n",
       "    .dataframe tbody tr th {\n",
       "        vertical-align: top;\n",
       "    }\n",
       "\n",
       "    .dataframe thead th {\n",
       "        text-align: right;\n",
       "    }\n",
       "</style>\n",
       "<table border=\"1\" class=\"dataframe\">\n",
       "  <thead>\n",
       "    <tr style=\"text-align: right;\">\n",
       "      <th></th>\n",
       "      <th>CarNumber</th>\n",
       "      <th>Refund</th>\n",
       "      <th>Fines</th>\n",
       "      <th>Make</th>\n",
       "      <th>Model</th>\n",
       "      <th>Year</th>\n",
       "      <th>Result</th>\n",
       "    </tr>\n",
       "  </thead>\n",
       "  <tbody>\n",
       "    <tr>\n",
       "      <th>0</th>\n",
       "      <td>Y163O8161RUS</td>\n",
       "      <td>2</td>\n",
       "      <td>3200.0</td>\n",
       "      <td>Ford</td>\n",
       "      <td>Focus</td>\n",
       "      <td>1989</td>\n",
       "      <td>3182400.0</td>\n",
       "    </tr>\n",
       "    <tr>\n",
       "      <th>1</th>\n",
       "      <td>E432XX77RUS</td>\n",
       "      <td>1</td>\n",
       "      <td>6500.0</td>\n",
       "      <td>Toyota</td>\n",
       "      <td>Camry</td>\n",
       "      <td>1995</td>\n",
       "      <td>12967500.0</td>\n",
       "    </tr>\n",
       "    <tr>\n",
       "      <th>2</th>\n",
       "      <td>7184TT36RUS</td>\n",
       "      <td>1</td>\n",
       "      <td>2100.0</td>\n",
       "      <td>Ford</td>\n",
       "      <td>Focus</td>\n",
       "      <td>1984</td>\n",
       "      <td>4166400.0</td>\n",
       "    </tr>\n",
       "    <tr>\n",
       "      <th>3</th>\n",
       "      <td>X582HE161RUS</td>\n",
       "      <td>2</td>\n",
       "      <td>2000.0</td>\n",
       "      <td>Ford</td>\n",
       "      <td>Focus</td>\n",
       "      <td>2015</td>\n",
       "      <td>2015000.0</td>\n",
       "    </tr>\n",
       "    <tr>\n",
       "      <th>4</th>\n",
       "      <td>92918M178RUS</td>\n",
       "      <td>1</td>\n",
       "      <td>5700.0</td>\n",
       "      <td>Ford</td>\n",
       "      <td>Focus</td>\n",
       "      <td>2014</td>\n",
       "      <td>11479800.0</td>\n",
       "    </tr>\n",
       "    <tr>\n",
       "      <th>...</th>\n",
       "      <td>...</td>\n",
       "      <td>...</td>\n",
       "      <td>...</td>\n",
       "      <td>...</td>\n",
       "      <td>...</td>\n",
       "      <td>...</td>\n",
       "      <td>...</td>\n",
       "    </tr>\n",
       "    <tr>\n",
       "      <th>920</th>\n",
       "      <td>8182XX154RUS</td>\n",
       "      <td>1</td>\n",
       "      <td>200.0</td>\n",
       "      <td>Ford</td>\n",
       "      <td>Focus</td>\n",
       "      <td>1996</td>\n",
       "      <td>399200.0</td>\n",
       "    </tr>\n",
       "    <tr>\n",
       "      <th>921</th>\n",
       "      <td>X796TH96RUS</td>\n",
       "      <td>1</td>\n",
       "      <td>500.0</td>\n",
       "      <td>Ford</td>\n",
       "      <td>Focus</td>\n",
       "      <td>2002</td>\n",
       "      <td>1001000.0</td>\n",
       "    </tr>\n",
       "    <tr>\n",
       "      <th>922</th>\n",
       "      <td>T011MY163RUS</td>\n",
       "      <td>2</td>\n",
       "      <td>4000.0</td>\n",
       "      <td>Ford</td>\n",
       "      <td>Focus</td>\n",
       "      <td>1996</td>\n",
       "      <td>3992000.0</td>\n",
       "    </tr>\n",
       "    <tr>\n",
       "      <th>923</th>\n",
       "      <td>T341CC96RUS</td>\n",
       "      <td>2</td>\n",
       "      <td>1000.0</td>\n",
       "      <td>Volkswagen</td>\n",
       "      <td>Passat</td>\n",
       "      <td>2012</td>\n",
       "      <td>1006000.0</td>\n",
       "    </tr>\n",
       "    <tr>\n",
       "      <th>924</th>\n",
       "      <td>T119CT96RUS</td>\n",
       "      <td>1</td>\n",
       "      <td>2000.0</td>\n",
       "      <td>Ford</td>\n",
       "      <td>Focus</td>\n",
       "      <td>1984</td>\n",
       "      <td>3968000.0</td>\n",
       "    </tr>\n",
       "  </tbody>\n",
       "</table>\n",
       "<p>925 rows × 7 columns</p>\n",
       "</div>"
      ],
      "text/plain": [
       "        CarNumber  Refund   Fines        Make   Model  Year      Result\n",
       "0    Y163O8161RUS       2  3200.0        Ford   Focus  1989   3182400.0\n",
       "1     E432XX77RUS       1  6500.0      Toyota   Camry  1995  12967500.0\n",
       "2     7184TT36RUS       1  2100.0        Ford   Focus  1984   4166400.0\n",
       "3    X582HE161RUS       2  2000.0        Ford   Focus  2015   2015000.0\n",
       "4    92918M178RUS       1  5700.0        Ford   Focus  2014  11479800.0\n",
       "..            ...     ...     ...         ...     ...   ...         ...\n",
       "920  8182XX154RUS       1   200.0        Ford   Focus  1996    399200.0\n",
       "921   X796TH96RUS       1   500.0        Ford   Focus  2002   1001000.0\n",
       "922  T011MY163RUS       2  4000.0        Ford   Focus  1996   3992000.0\n",
       "923   T341CC96RUS       2  1000.0  Volkswagen  Passat  2012   1006000.0\n",
       "924   T119CT96RUS       1  2000.0        Ford   Focus  1984   3968000.0\n",
       "\n",
       "[925 rows x 7 columns]"
      ]
     },
     "execution_count": 310,
     "metadata": {},
     "output_type": "execute_result"
    }
   ],
   "source": [
    "df"
   ]
  },
  {
   "cell_type": "code",
   "execution_count": 311,
   "id": "6e8a305e",
   "metadata": {},
   "outputs": [],
   "source": [
    "df.drop(columns='Result', inplace=True)"
   ]
  },
  {
   "cell_type": "markdown",
   "id": "39e43adf",
   "metadata": {},
   "source": [
    "* do it as in the previous subtask but with the method .values"
   ]
  },
  {
   "cell_type": "code",
   "execution_count": 312,
   "id": "fa7f0fd0",
   "metadata": {},
   "outputs": [
    {
     "name": "stdout",
     "output_type": "stream",
     "text": [
      "538 μs ± 0 ns per loop (mean ± std. dev. of 1 run, 1 loop each)\n"
     ]
    }
   ],
   "source": [
    "%%timeit -r1 -n1\n",
    "df['Result'] = df['Fines'].values / df['Refund'].values * df['Year'].values"
   ]
  },
  {
   "cell_type": "code",
   "execution_count": 313,
   "id": "15c81924",
   "metadata": {},
   "outputs": [
    {
     "data": {
      "text/html": [
       "<div>\n",
       "<style scoped>\n",
       "    .dataframe tbody tr th:only-of-type {\n",
       "        vertical-align: middle;\n",
       "    }\n",
       "\n",
       "    .dataframe tbody tr th {\n",
       "        vertical-align: top;\n",
       "    }\n",
       "\n",
       "    .dataframe thead th {\n",
       "        text-align: right;\n",
       "    }\n",
       "</style>\n",
       "<table border=\"1\" class=\"dataframe\">\n",
       "  <thead>\n",
       "    <tr style=\"text-align: right;\">\n",
       "      <th></th>\n",
       "      <th>CarNumber</th>\n",
       "      <th>Refund</th>\n",
       "      <th>Fines</th>\n",
       "      <th>Make</th>\n",
       "      <th>Model</th>\n",
       "      <th>Year</th>\n",
       "      <th>Result</th>\n",
       "    </tr>\n",
       "  </thead>\n",
       "  <tbody>\n",
       "    <tr>\n",
       "      <th>0</th>\n",
       "      <td>Y163O8161RUS</td>\n",
       "      <td>2</td>\n",
       "      <td>3200.0</td>\n",
       "      <td>Ford</td>\n",
       "      <td>Focus</td>\n",
       "      <td>1989</td>\n",
       "      <td>3182400.0</td>\n",
       "    </tr>\n",
       "    <tr>\n",
       "      <th>1</th>\n",
       "      <td>E432XX77RUS</td>\n",
       "      <td>1</td>\n",
       "      <td>6500.0</td>\n",
       "      <td>Toyota</td>\n",
       "      <td>Camry</td>\n",
       "      <td>1995</td>\n",
       "      <td>12967500.0</td>\n",
       "    </tr>\n",
       "    <tr>\n",
       "      <th>2</th>\n",
       "      <td>7184TT36RUS</td>\n",
       "      <td>1</td>\n",
       "      <td>2100.0</td>\n",
       "      <td>Ford</td>\n",
       "      <td>Focus</td>\n",
       "      <td>1984</td>\n",
       "      <td>4166400.0</td>\n",
       "    </tr>\n",
       "    <tr>\n",
       "      <th>3</th>\n",
       "      <td>X582HE161RUS</td>\n",
       "      <td>2</td>\n",
       "      <td>2000.0</td>\n",
       "      <td>Ford</td>\n",
       "      <td>Focus</td>\n",
       "      <td>2015</td>\n",
       "      <td>2015000.0</td>\n",
       "    </tr>\n",
       "    <tr>\n",
       "      <th>4</th>\n",
       "      <td>92918M178RUS</td>\n",
       "      <td>1</td>\n",
       "      <td>5700.0</td>\n",
       "      <td>Ford</td>\n",
       "      <td>Focus</td>\n",
       "      <td>2014</td>\n",
       "      <td>11479800.0</td>\n",
       "    </tr>\n",
       "    <tr>\n",
       "      <th>...</th>\n",
       "      <td>...</td>\n",
       "      <td>...</td>\n",
       "      <td>...</td>\n",
       "      <td>...</td>\n",
       "      <td>...</td>\n",
       "      <td>...</td>\n",
       "      <td>...</td>\n",
       "    </tr>\n",
       "    <tr>\n",
       "      <th>920</th>\n",
       "      <td>8182XX154RUS</td>\n",
       "      <td>1</td>\n",
       "      <td>200.0</td>\n",
       "      <td>Ford</td>\n",
       "      <td>Focus</td>\n",
       "      <td>1996</td>\n",
       "      <td>399200.0</td>\n",
       "    </tr>\n",
       "    <tr>\n",
       "      <th>921</th>\n",
       "      <td>X796TH96RUS</td>\n",
       "      <td>1</td>\n",
       "      <td>500.0</td>\n",
       "      <td>Ford</td>\n",
       "      <td>Focus</td>\n",
       "      <td>2002</td>\n",
       "      <td>1001000.0</td>\n",
       "    </tr>\n",
       "    <tr>\n",
       "      <th>922</th>\n",
       "      <td>T011MY163RUS</td>\n",
       "      <td>2</td>\n",
       "      <td>4000.0</td>\n",
       "      <td>Ford</td>\n",
       "      <td>Focus</td>\n",
       "      <td>1996</td>\n",
       "      <td>3992000.0</td>\n",
       "    </tr>\n",
       "    <tr>\n",
       "      <th>923</th>\n",
       "      <td>T341CC96RUS</td>\n",
       "      <td>2</td>\n",
       "      <td>1000.0</td>\n",
       "      <td>Volkswagen</td>\n",
       "      <td>Passat</td>\n",
       "      <td>2012</td>\n",
       "      <td>1006000.0</td>\n",
       "    </tr>\n",
       "    <tr>\n",
       "      <th>924</th>\n",
       "      <td>T119CT96RUS</td>\n",
       "      <td>1</td>\n",
       "      <td>2000.0</td>\n",
       "      <td>Ford</td>\n",
       "      <td>Focus</td>\n",
       "      <td>1984</td>\n",
       "      <td>3968000.0</td>\n",
       "    </tr>\n",
       "  </tbody>\n",
       "</table>\n",
       "<p>925 rows × 7 columns</p>\n",
       "</div>"
      ],
      "text/plain": [
       "        CarNumber  Refund   Fines        Make   Model  Year      Result\n",
       "0    Y163O8161RUS       2  3200.0        Ford   Focus  1989   3182400.0\n",
       "1     E432XX77RUS       1  6500.0      Toyota   Camry  1995  12967500.0\n",
       "2     7184TT36RUS       1  2100.0        Ford   Focus  1984   4166400.0\n",
       "3    X582HE161RUS       2  2000.0        Ford   Focus  2015   2015000.0\n",
       "4    92918M178RUS       1  5700.0        Ford   Focus  2014  11479800.0\n",
       "..            ...     ...     ...         ...     ...   ...         ...\n",
       "920  8182XX154RUS       1   200.0        Ford   Focus  1996    399200.0\n",
       "921   X796TH96RUS       1   500.0        Ford   Focus  2002   1001000.0\n",
       "922  T011MY163RUS       2  4000.0        Ford   Focus  1996   3992000.0\n",
       "923   T341CC96RUS       2  1000.0  Volkswagen  Passat  2012   1006000.0\n",
       "924   T119CT96RUS       1  2000.0        Ford   Focus  1984   3968000.0\n",
       "\n",
       "[925 rows x 7 columns]"
      ]
     },
     "execution_count": 313,
     "metadata": {},
     "output_type": "execute_result"
    }
   ],
   "source": [
    "df"
   ]
  },
  {
   "cell_type": "code",
   "execution_count": 314,
   "id": "8c2485d4",
   "metadata": {},
   "outputs": [],
   "source": [
    "df.drop(columns='Result', inplace=True)"
   ]
  },
  {
   "cell_type": "markdown",
   "id": "140783e2",
   "metadata": {},
   "source": [
    "### indexing: measure the time using the magic command %%timeit in the cell"
   ]
  },
  {
   "cell_type": "markdown",
   "id": "e4a640c3",
   "metadata": {},
   "source": [
    "* get a row for a specific CarNumber, for example, ’O136HO197RUS’"
   ]
  },
  {
   "cell_type": "code",
   "execution_count": 315,
   "id": "084f6970",
   "metadata": {},
   "outputs": [
    {
     "name": "stdout",
     "output_type": "stream",
     "text": [
      "        CarNumber  Refund   Fines    Make    Model  Year\n",
      "715  O136HO197RUS       2  7800.0  Toyota  Corolla  1989\n",
      "902  O136HO197RUS       2  7800.0  Toyota  Corolla  1997\n",
      "3.13 ms ± 0 ns per loop (mean ± std. dev. of 1 run, 1 loop each)\n"
     ]
    }
   ],
   "source": [
    "%%timeit -r1 -n1\n",
    "print(df[df['CarNumber'] == 'O136HO197RUS'])"
   ]
  },
  {
   "cell_type": "markdown",
   "id": "9c091ee1",
   "metadata": {},
   "source": [
    "* set the index in your dataframe with CarNumber"
   ]
  },
  {
   "cell_type": "code",
   "execution_count": 316,
   "id": "eebd07d3",
   "metadata": {},
   "outputs": [],
   "source": [
    "df.set_index('CarNumber', inplace=True)"
   ]
  },
  {
   "cell_type": "markdown",
   "id": "3a945e96",
   "metadata": {},
   "source": [
    "* again, get a row for the same CarNumber"
   ]
  },
  {
   "cell_type": "code",
   "execution_count": 317,
   "id": "7c0c3dd8",
   "metadata": {},
   "outputs": [
    {
     "name": "stdout",
     "output_type": "stream",
     "text": [
      "              Refund   Fines    Make    Model  Year\n",
      "CarNumber                                          \n",
      "O136HO197RUS       2  7800.0  Toyota  Corolla  1989\n",
      "O136HO197RUS       2  7800.0  Toyota  Corolla  1997\n",
      "2.17 ms ± 0 ns per loop (mean ± std. dev. of 1 run, 1 loop each)\n"
     ]
    }
   ],
   "source": [
    "%%timeit -r1 -n1\n",
    "print(df.loc['O136HO197RUS'])"
   ]
  },
  {
   "cell_type": "markdown",
   "id": "ccde79f9",
   "metadata": {},
   "source": [
    "### downcasting:"
   ]
  },
  {
   "cell_type": "markdown",
   "id": "2bd73b83",
   "metadata": {},
   "source": [
    "* run df.info(memory_usage=’deep’), pay attention to the Dtype and the memory usage"
   ]
  },
  {
   "cell_type": "code",
   "execution_count": 318,
   "id": "4810c988",
   "metadata": {},
   "outputs": [
    {
     "name": "stdout",
     "output_type": "stream",
     "text": [
      "<class 'pandas.core.frame.DataFrame'>\n",
      "Index: 925 entries, Y163O8161RUS to T119CT96RUS\n",
      "Data columns (total 5 columns):\n",
      " #   Column  Non-Null Count  Dtype  \n",
      "---  ------  --------------  -----  \n",
      " 0   Refund  925 non-null    int64  \n",
      " 1   Fines   925 non-null    float64\n",
      " 2   Make    925 non-null    object \n",
      " 3   Model   914 non-null    object \n",
      " 4   Year    925 non-null    int64  \n",
      "dtypes: float64(1), int64(2), object(2)\n",
      "memory usage: 206.1 KB\n"
     ]
    }
   ],
   "source": [
    "df.info(memory_usage='deep')"
   ]
  },
  {
   "cell_type": "markdown",
   "id": "55b45ed4",
   "metadata": {},
   "source": [
    "* make a copy() of your initial dataframe into another dataframe optimized"
   ]
  },
  {
   "cell_type": "code",
   "execution_count": 319,
   "id": "b8c72183",
   "metadata": {},
   "outputs": [],
   "source": [
    "optimized = df.copy()"
   ]
  },
  {
   "cell_type": "markdown",
   "id": "ada6502b",
   "metadata": {},
   "source": [
    "* downcast from float64 to float32 for all the columns\n",
    "* downcast from int64 to the smallest numerical dtype possible"
   ]
  },
  {
   "cell_type": "code",
   "execution_count": 320,
   "id": "7f15d4a4",
   "metadata": {},
   "outputs": [],
   "source": [
    "optimized = optimized.astype({'Fines' : 'float32', 'Refund' : 'int8', 'Year' : 'int8'})"
   ]
  },
  {
   "cell_type": "markdown",
   "id": "87d8e6b6",
   "metadata": {},
   "source": [
    "* run info(memory_usage='deep') for your new dataframe, pay attention to the Dtype and the memory usage"
   ]
  },
  {
   "cell_type": "code",
   "execution_count": 321,
   "id": "b17d41b2",
   "metadata": {},
   "outputs": [
    {
     "name": "stdout",
     "output_type": "stream",
     "text": [
      "<class 'pandas.core.frame.DataFrame'>\n",
      "Index: 925 entries, Y163O8161RUS to T119CT96RUS\n",
      "Data columns (total 5 columns):\n",
      " #   Column  Non-Null Count  Dtype  \n",
      "---  ------  --------------  -----  \n",
      " 0   Refund  925 non-null    int8   \n",
      " 1   Fines   925 non-null    float32\n",
      " 2   Make    925 non-null    object \n",
      " 3   Model   914 non-null    object \n",
      " 4   Year    925 non-null    int8   \n",
      "dtypes: float32(1), int8(2), object(2)\n",
      "memory usage: 189.8 KB\n"
     ]
    }
   ],
   "source": [
    "optimized.info(memory_usage='deep')"
   ]
  },
  {
   "cell_type": "markdown",
   "id": "ba9e8b5a",
   "metadata": {},
   "source": [
    "### categories:\n",
    "* change the object type columns to the type category"
   ]
  },
  {
   "cell_type": "code",
   "execution_count": 322,
   "id": "48dd3456",
   "metadata": {},
   "outputs": [],
   "source": [
    "optimized = optimized.astype({'Make' : 'category', 'Model' : 'category'})"
   ]
  },
  {
   "cell_type": "markdown",
   "id": "7aa5cd0b",
   "metadata": {},
   "source": [
    "* This time, check the memory usage, it probably has a decrease of 2–3 times compared to the initial dataframe"
   ]
  },
  {
   "cell_type": "code",
   "execution_count": 323,
   "id": "a77a3e46",
   "metadata": {},
   "outputs": [
    {
     "name": "stdout",
     "output_type": "stream",
     "text": [
      "<class 'pandas.core.frame.DataFrame'>\n",
      "Index: 925 entries, Y163O8161RUS to T119CT96RUS\n",
      "Data columns (total 5 columns):\n",
      " #   Column  Non-Null Count  Dtype   \n",
      "---  ------  --------------  -----   \n",
      " 0   Refund  925 non-null    int8    \n",
      " 1   Fines   925 non-null    float32 \n",
      " 2   Make    925 non-null    category\n",
      " 3   Model   914 non-null    category\n",
      " 4   Year    925 non-null    int8    \n",
      "dtypes: category(2), float32(1), int8(2)\n",
      "memory usage: 95.9 KB\n"
     ]
    }
   ],
   "source": [
    "optimized.info(memory_usage='deep')"
   ]
  },
  {
   "cell_type": "markdown",
   "id": "c9c86fe6",
   "metadata": {},
   "source": [
    "### memory clean\n",
    "* using %reset_selective and the library gc clean the memory of your initial dataframe only"
   ]
  },
  {
   "cell_type": "code",
   "execution_count": 324,
   "id": "c94cd042",
   "metadata": {},
   "outputs": [],
   "source": [
    "%reset_selective -f df, optimized"
   ]
  },
  {
   "cell_type": "code",
   "execution_count": 325,
   "id": "dd2b8ad4",
   "metadata": {},
   "outputs": [],
   "source": [
    "del df, optimized"
   ]
  },
  {
   "cell_type": "code",
   "execution_count": 326,
   "id": "e632b44e",
   "metadata": {},
   "outputs": [
    {
     "data": {
      "text/plain": [
       "18"
      ]
     },
     "execution_count": 326,
     "metadata": {},
     "output_type": "execute_result"
    }
   ],
   "source": [
    "gc.collect()"
   ]
  }
 ],
 "metadata": {
  "kernelspec": {
   "display_name": "Python 3",
   "language": "python",
   "name": "python3"
  },
  "language_info": {
   "codemirror_mode": {
    "name": "ipython",
    "version": 3
   },
   "file_extension": ".py",
   "mimetype": "text/x-python",
   "name": "python",
   "nbconvert_exporter": "python",
   "pygments_lexer": "ipython3",
   "version": "3.13.3"
  }
 },
 "nbformat": 4,
 "nbformat_minor": 5
}
