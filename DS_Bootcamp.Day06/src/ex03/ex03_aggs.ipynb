{
 "cells": [
  {
   "metadata": {},
   "cell_type": "markdown",
   "source": "# Exercise 03 : Aggregations",
   "id": "c492de9f3e6e89c8"
  },
  {
   "metadata": {
    "ExecuteTime": {
     "end_time": "2025-05-08T08:33:47.683008Z",
     "start_time": "2025-05-08T08:33:47.680093Z"
    }
   },
   "cell_type": "code",
   "source": [
    "import pandas as pd\n",
    "import sqlite3"
   ],
   "id": "f052036469ebe483",
   "outputs": [],
   "execution_count": 198
  },
  {
   "metadata": {
    "ExecuteTime": {
     "end_time": "2025-05-08T08:33:47.702032Z",
     "start_time": "2025-05-08T08:33:47.699390Z"
    }
   },
   "cell_type": "code",
   "source": "con = sqlite3.connect('../data/checking-logs.sqlite')",
   "id": "368f008bf2bc77ea",
   "outputs": [],
   "execution_count": 199
  },
  {
   "metadata": {
    "ExecuteTime": {
     "end_time": "2025-05-08T08:33:47.725303Z",
     "start_time": "2025-05-08T08:33:47.716008Z"
    }
   },
   "cell_type": "code",
   "source": "pd.read_sql(\"PRAGMA table_info(checker);\", con)",
   "id": "dc743885be1e074c",
   "outputs": [
    {
     "data": {
      "text/plain": [
       "   cid       name       type  notnull dflt_value  pk\n",
       "0    0      index    INTEGER        0       None   0\n",
       "1    1     status       TEXT        0       None   0\n",
       "2    2    success    INTEGER        0       None   0\n",
       "3    3  timestamp  TIMESTAMP        0       None   0\n",
       "4    4  numTrials    INTEGER        0       None   0\n",
       "5    5    labname       TEXT        0       None   0\n",
       "6    6        uid       TEXT        0       None   0"
      ],
      "text/html": [
       "<div>\n",
       "<style scoped>\n",
       "    .dataframe tbody tr th:only-of-type {\n",
       "        vertical-align: middle;\n",
       "    }\n",
       "\n",
       "    .dataframe tbody tr th {\n",
       "        vertical-align: top;\n",
       "    }\n",
       "\n",
       "    .dataframe thead th {\n",
       "        text-align: right;\n",
       "    }\n",
       "</style>\n",
       "<table border=\"1\" class=\"dataframe\">\n",
       "  <thead>\n",
       "    <tr style=\"text-align: right;\">\n",
       "      <th></th>\n",
       "      <th>cid</th>\n",
       "      <th>name</th>\n",
       "      <th>type</th>\n",
       "      <th>notnull</th>\n",
       "      <th>dflt_value</th>\n",
       "      <th>pk</th>\n",
       "    </tr>\n",
       "  </thead>\n",
       "  <tbody>\n",
       "    <tr>\n",
       "      <th>0</th>\n",
       "      <td>0</td>\n",
       "      <td>index</td>\n",
       "      <td>INTEGER</td>\n",
       "      <td>0</td>\n",
       "      <td>None</td>\n",
       "      <td>0</td>\n",
       "    </tr>\n",
       "    <tr>\n",
       "      <th>1</th>\n",
       "      <td>1</td>\n",
       "      <td>status</td>\n",
       "      <td>TEXT</td>\n",
       "      <td>0</td>\n",
       "      <td>None</td>\n",
       "      <td>0</td>\n",
       "    </tr>\n",
       "    <tr>\n",
       "      <th>2</th>\n",
       "      <td>2</td>\n",
       "      <td>success</td>\n",
       "      <td>INTEGER</td>\n",
       "      <td>0</td>\n",
       "      <td>None</td>\n",
       "      <td>0</td>\n",
       "    </tr>\n",
       "    <tr>\n",
       "      <th>3</th>\n",
       "      <td>3</td>\n",
       "      <td>timestamp</td>\n",
       "      <td>TIMESTAMP</td>\n",
       "      <td>0</td>\n",
       "      <td>None</td>\n",
       "      <td>0</td>\n",
       "    </tr>\n",
       "    <tr>\n",
       "      <th>4</th>\n",
       "      <td>4</td>\n",
       "      <td>numTrials</td>\n",
       "      <td>INTEGER</td>\n",
       "      <td>0</td>\n",
       "      <td>None</td>\n",
       "      <td>0</td>\n",
       "    </tr>\n",
       "    <tr>\n",
       "      <th>5</th>\n",
       "      <td>5</td>\n",
       "      <td>labname</td>\n",
       "      <td>TEXT</td>\n",
       "      <td>0</td>\n",
       "      <td>None</td>\n",
       "      <td>0</td>\n",
       "    </tr>\n",
       "    <tr>\n",
       "      <th>6</th>\n",
       "      <td>6</td>\n",
       "      <td>uid</td>\n",
       "      <td>TEXT</td>\n",
       "      <td>0</td>\n",
       "      <td>None</td>\n",
       "      <td>0</td>\n",
       "    </tr>\n",
       "  </tbody>\n",
       "</table>\n",
       "</div>"
      ]
     },
     "execution_count": 200,
     "metadata": {},
     "output_type": "execute_result"
    }
   ],
   "execution_count": 200
  },
  {
   "metadata": {
    "ExecuteTime": {
     "end_time": "2025-05-08T08:33:47.789379Z",
     "start_time": "2025-05-08T08:33:47.780032Z"
    }
   },
   "cell_type": "code",
   "source": "pd.read_sql('SELECT * FROM test LIMIT 10', con)",
   "id": "19bd6681ae7c3097",
   "outputs": [
    {
     "data": {
      "text/plain": [
       "       uid   labname             first_commit_ts               first_view_ts\n",
       "0   user_1    laba04  2020-04-26 17:06:18.462708  2020-04-26 21:53:59.624136\n",
       "1   user_1   laba04s  2020-04-26 17:12:11.843671  2020-04-26 21:53:59.624136\n",
       "2   user_1    laba05  2020-05-02 19:15:18.540185  2020-04-26 21:53:59.624136\n",
       "3   user_1    laba06  2020-05-17 16:26:35.268534  2020-04-26 21:53:59.624136\n",
       "4   user_1   laba06s  2020-05-20 12:23:37.289724  2020-04-26 21:53:59.624136\n",
       "5   user_1  project1  2020-05-14 20:56:08.898880  2020-04-26 21:53:59.624136\n",
       "6  user_10    laba04  2020-04-25 08:24:52.696624  2020-04-18 12:19:50.182714\n",
       "7  user_10   laba04s  2020-04-25 08:37:54.604222  2020-04-18 12:19:50.182714\n",
       "8  user_10    laba05  2020-05-01 19:27:26.063245  2020-04-18 12:19:50.182714\n",
       "9  user_10    laba06  2020-05-19 11:39:28.885637  2020-04-18 12:19:50.182714"
      ],
      "text/html": [
       "<div>\n",
       "<style scoped>\n",
       "    .dataframe tbody tr th:only-of-type {\n",
       "        vertical-align: middle;\n",
       "    }\n",
       "\n",
       "    .dataframe tbody tr th {\n",
       "        vertical-align: top;\n",
       "    }\n",
       "\n",
       "    .dataframe thead th {\n",
       "        text-align: right;\n",
       "    }\n",
       "</style>\n",
       "<table border=\"1\" class=\"dataframe\">\n",
       "  <thead>\n",
       "    <tr style=\"text-align: right;\">\n",
       "      <th></th>\n",
       "      <th>uid</th>\n",
       "      <th>labname</th>\n",
       "      <th>first_commit_ts</th>\n",
       "      <th>first_view_ts</th>\n",
       "    </tr>\n",
       "  </thead>\n",
       "  <tbody>\n",
       "    <tr>\n",
       "      <th>0</th>\n",
       "      <td>user_1</td>\n",
       "      <td>laba04</td>\n",
       "      <td>2020-04-26 17:06:18.462708</td>\n",
       "      <td>2020-04-26 21:53:59.624136</td>\n",
       "    </tr>\n",
       "    <tr>\n",
       "      <th>1</th>\n",
       "      <td>user_1</td>\n",
       "      <td>laba04s</td>\n",
       "      <td>2020-04-26 17:12:11.843671</td>\n",
       "      <td>2020-04-26 21:53:59.624136</td>\n",
       "    </tr>\n",
       "    <tr>\n",
       "      <th>2</th>\n",
       "      <td>user_1</td>\n",
       "      <td>laba05</td>\n",
       "      <td>2020-05-02 19:15:18.540185</td>\n",
       "      <td>2020-04-26 21:53:59.624136</td>\n",
       "    </tr>\n",
       "    <tr>\n",
       "      <th>3</th>\n",
       "      <td>user_1</td>\n",
       "      <td>laba06</td>\n",
       "      <td>2020-05-17 16:26:35.268534</td>\n",
       "      <td>2020-04-26 21:53:59.624136</td>\n",
       "    </tr>\n",
       "    <tr>\n",
       "      <th>4</th>\n",
       "      <td>user_1</td>\n",
       "      <td>laba06s</td>\n",
       "      <td>2020-05-20 12:23:37.289724</td>\n",
       "      <td>2020-04-26 21:53:59.624136</td>\n",
       "    </tr>\n",
       "    <tr>\n",
       "      <th>5</th>\n",
       "      <td>user_1</td>\n",
       "      <td>project1</td>\n",
       "      <td>2020-05-14 20:56:08.898880</td>\n",
       "      <td>2020-04-26 21:53:59.624136</td>\n",
       "    </tr>\n",
       "    <tr>\n",
       "      <th>6</th>\n",
       "      <td>user_10</td>\n",
       "      <td>laba04</td>\n",
       "      <td>2020-04-25 08:24:52.696624</td>\n",
       "      <td>2020-04-18 12:19:50.182714</td>\n",
       "    </tr>\n",
       "    <tr>\n",
       "      <th>7</th>\n",
       "      <td>user_10</td>\n",
       "      <td>laba04s</td>\n",
       "      <td>2020-04-25 08:37:54.604222</td>\n",
       "      <td>2020-04-18 12:19:50.182714</td>\n",
       "    </tr>\n",
       "    <tr>\n",
       "      <th>8</th>\n",
       "      <td>user_10</td>\n",
       "      <td>laba05</td>\n",
       "      <td>2020-05-01 19:27:26.063245</td>\n",
       "      <td>2020-04-18 12:19:50.182714</td>\n",
       "    </tr>\n",
       "    <tr>\n",
       "      <th>9</th>\n",
       "      <td>user_10</td>\n",
       "      <td>laba06</td>\n",
       "      <td>2020-05-19 11:39:28.885637</td>\n",
       "      <td>2020-04-18 12:19:50.182714</td>\n",
       "    </tr>\n",
       "  </tbody>\n",
       "</table>\n",
       "</div>"
      ]
     },
     "execution_count": 201,
     "metadata": {},
     "output_type": "execute_result"
    }
   ],
   "execution_count": 201
  },
  {
   "metadata": {
    "ExecuteTime": {
     "end_time": "2025-05-08T08:33:47.940455Z",
     "start_time": "2025-05-08T08:33:47.935669Z"
    }
   },
   "cell_type": "code",
   "source": [
    "df_min = pd.read_sql(\"\"\"\n",
    "                     SELECT t.uid,\n",
    "                            MIN((strftime('%s', DATETIME(t.first_commit_ts)) - d.deadlines) / 3600) AS delta_hours\n",
    "                     FROM test t\n",
    "                              JOIN deadlines d ON t.labname = d.labs\n",
    "                     WHERE t.labname != 'project1'\n",
    "                     GROUP BY t.uid, t.labname\n",
    "                     ORDER BY delta_hours\n",
    "                         LIMIT 1\n",
    "                     \"\"\", con)"
   ],
   "id": "ffe600d274847296",
   "outputs": [],
   "execution_count": 202
  },
  {
   "metadata": {
    "ExecuteTime": {
     "end_time": "2025-05-08T08:33:48.029842Z",
     "start_time": "2025-05-08T08:33:48.023322Z"
    }
   },
   "cell_type": "code",
   "source": "df_min",
   "id": "306c959730367f13",
   "outputs": [
    {
     "data": {
      "text/plain": [
       "       uid  delta_hours\n",
       "0  user_30         -202"
      ],
      "text/html": [
       "<div>\n",
       "<style scoped>\n",
       "    .dataframe tbody tr th:only-of-type {\n",
       "        vertical-align: middle;\n",
       "    }\n",
       "\n",
       "    .dataframe tbody tr th {\n",
       "        vertical-align: top;\n",
       "    }\n",
       "\n",
       "    .dataframe thead th {\n",
       "        text-align: right;\n",
       "    }\n",
       "</style>\n",
       "<table border=\"1\" class=\"dataframe\">\n",
       "  <thead>\n",
       "    <tr style=\"text-align: right;\">\n",
       "      <th></th>\n",
       "      <th>uid</th>\n",
       "      <th>delta_hours</th>\n",
       "    </tr>\n",
       "  </thead>\n",
       "  <tbody>\n",
       "    <tr>\n",
       "      <th>0</th>\n",
       "      <td>user_30</td>\n",
       "      <td>-202</td>\n",
       "    </tr>\n",
       "  </tbody>\n",
       "</table>\n",
       "</div>"
      ]
     },
     "execution_count": 203,
     "metadata": {},
     "output_type": "execute_result"
    }
   ],
   "execution_count": 203
  },
  {
   "metadata": {
    "ExecuteTime": {
     "end_time": "2025-05-08T08:33:48.115083Z",
     "start_time": "2025-05-08T08:33:48.111038Z"
    }
   },
   "cell_type": "code",
   "source": [
    "df_max = pd.read_sql(\"\"\"\n",
    "                     SELECT t.uid,\n",
    "                            MIN((strftime('%s', DATETIME(t.first_commit_ts)) - d.deadlines) / 3600) AS delta_hours\n",
    "                     FROM test t\n",
    "                              JOIN deadlines d ON t.labname = d.labs\n",
    "                     WHERE t.labname != 'project1'\n",
    "                     GROUP BY t.uid, t.labname\n",
    "                     ORDER BY delta_hours DESC\n",
    "                         LIMIT 1\n",
    "                     \"\"\", con)"
   ],
   "id": "5f8e0efe0b4ee39f",
   "outputs": [],
   "execution_count": 204
  },
  {
   "metadata": {
    "ExecuteTime": {
     "end_time": "2025-05-08T08:33:48.171765Z",
     "start_time": "2025-05-08T08:33:48.165311Z"
    }
   },
   "cell_type": "code",
   "source": "df_max",
   "id": "f2e1e45a5a4efa74",
   "outputs": [
    {
     "data": {
      "text/plain": [
       "       uid  delta_hours\n",
       "0  user_25           -2"
      ],
      "text/html": [
       "<div>\n",
       "<style scoped>\n",
       "    .dataframe tbody tr th:only-of-type {\n",
       "        vertical-align: middle;\n",
       "    }\n",
       "\n",
       "    .dataframe tbody tr th {\n",
       "        vertical-align: top;\n",
       "    }\n",
       "\n",
       "    .dataframe thead th {\n",
       "        text-align: right;\n",
       "    }\n",
       "</style>\n",
       "<table border=\"1\" class=\"dataframe\">\n",
       "  <thead>\n",
       "    <tr style=\"text-align: right;\">\n",
       "      <th></th>\n",
       "      <th>uid</th>\n",
       "      <th>delta_hours</th>\n",
       "    </tr>\n",
       "  </thead>\n",
       "  <tbody>\n",
       "    <tr>\n",
       "      <th>0</th>\n",
       "      <td>user_25</td>\n",
       "      <td>-2</td>\n",
       "    </tr>\n",
       "  </tbody>\n",
       "</table>\n",
       "</div>"
      ]
     },
     "execution_count": 205,
     "metadata": {},
     "output_type": "execute_result"
    }
   ],
   "execution_count": 205
  },
  {
   "metadata": {
    "ExecuteTime": {
     "end_time": "2025-05-08T08:33:48.297306Z",
     "start_time": "2025-05-08T08:33:48.293873Z"
    }
   },
   "cell_type": "code",
   "source": [
    "df_avg = pd.read_sql(\"\"\"\n",
    "                     SELECT AVG((strftime('%s', DATETIME(t.first_commit_ts)) - d.deadlines) / 3600) AS delta_hours\n",
    "                     FROM test t\n",
    "                              JOIN deadlines d ON t.labname = d.labs\n",
    "                     WHERE t.labname != 'project1'\n",
    "                     \"\"\", con)"
   ],
   "id": "47b827ef16b3696e",
   "outputs": [],
   "execution_count": 206
  },
  {
   "metadata": {
    "ExecuteTime": {
     "end_time": "2025-05-08T08:33:48.357454Z",
     "start_time": "2025-05-08T08:33:48.351801Z"
    }
   },
   "cell_type": "code",
   "source": "df_avg",
   "id": "4ecf672ff8cc85c0",
   "outputs": [
    {
     "data": {
      "text/plain": [
       "   delta_hours\n",
       "0      -89.125"
      ],
      "text/html": [
       "<div>\n",
       "<style scoped>\n",
       "    .dataframe tbody tr th:only-of-type {\n",
       "        vertical-align: middle;\n",
       "    }\n",
       "\n",
       "    .dataframe tbody tr th {\n",
       "        vertical-align: top;\n",
       "    }\n",
       "\n",
       "    .dataframe thead th {\n",
       "        text-align: right;\n",
       "    }\n",
       "</style>\n",
       "<table border=\"1\" class=\"dataframe\">\n",
       "  <thead>\n",
       "    <tr style=\"text-align: right;\">\n",
       "      <th></th>\n",
       "      <th>delta_hours</th>\n",
       "    </tr>\n",
       "  </thead>\n",
       "  <tbody>\n",
       "    <tr>\n",
       "      <th>0</th>\n",
       "      <td>-89.125</td>\n",
       "    </tr>\n",
       "  </tbody>\n",
       "</table>\n",
       "</div>"
      ]
     },
     "execution_count": 207,
     "metadata": {},
     "output_type": "execute_result"
    }
   ],
   "execution_count": 207
  },
  {
   "metadata": {
    "ExecuteTime": {
     "end_time": "2025-05-08T08:33:48.494085Z",
     "start_time": "2025-05-08T08:33:48.488780Z"
    }
   },
   "cell_type": "code",
   "source": [
    "views_diff = pd.read_sql(\"\"\"\n",
    "                         SELECT t.uid,\n",
    "                                AVG((strftime('%s', t.first_commit_ts) - d.deadlines) / 3600.0) AS avg_diff,\n",
    "                                (SELECT COUNT(*) FROM pageviews p WHERE p.uid = t.uid)          AS pageviews\n",
    "                         FROM test t\n",
    "                                  JOIN deadlines d ON t.labname = d.labs\n",
    "                         WHERE t.labname != 'project1'\n",
    "                         GROUP BY t.uid\n",
    "                         \"\"\", con)"
   ],
   "id": "ef6b8dcfcd0f493a",
   "outputs": [],
   "execution_count": 208
  },
  {
   "metadata": {
    "ExecuteTime": {
     "end_time": "2025-05-08T08:33:48.547499Z",
     "start_time": "2025-05-08T08:33:48.540785Z"
    }
   },
   "cell_type": "code",
   "source": "views_diff",
   "id": "ddbf6d5d1e949ea5",
   "outputs": [
    {
     "data": {
      "text/plain": [
       "        uid    avg_diff  pageviews\n",
       "0    user_1  -65.119778         28\n",
       "1   user_10  -75.242444         89\n",
       "2   user_14 -159.568796        143\n",
       "3   user_17  -62.207667         47\n",
       "4   user_18   -6.368148          3\n",
       "5   user_19  -99.440417         16\n",
       "6   user_21  -96.111181         10\n",
       "7   user_25  -93.474944        179\n",
       "8   user_28  -86.793833        149\n",
       "9    user_3 -105.738222        317\n",
       "10  user_30 -145.528681          3"
      ],
      "text/html": [
       "<div>\n",
       "<style scoped>\n",
       "    .dataframe tbody tr th:only-of-type {\n",
       "        vertical-align: middle;\n",
       "    }\n",
       "\n",
       "    .dataframe tbody tr th {\n",
       "        vertical-align: top;\n",
       "    }\n",
       "\n",
       "    .dataframe thead th {\n",
       "        text-align: right;\n",
       "    }\n",
       "</style>\n",
       "<table border=\"1\" class=\"dataframe\">\n",
       "  <thead>\n",
       "    <tr style=\"text-align: right;\">\n",
       "      <th></th>\n",
       "      <th>uid</th>\n",
       "      <th>avg_diff</th>\n",
       "      <th>pageviews</th>\n",
       "    </tr>\n",
       "  </thead>\n",
       "  <tbody>\n",
       "    <tr>\n",
       "      <th>0</th>\n",
       "      <td>user_1</td>\n",
       "      <td>-65.119778</td>\n",
       "      <td>28</td>\n",
       "    </tr>\n",
       "    <tr>\n",
       "      <th>1</th>\n",
       "      <td>user_10</td>\n",
       "      <td>-75.242444</td>\n",
       "      <td>89</td>\n",
       "    </tr>\n",
       "    <tr>\n",
       "      <th>2</th>\n",
       "      <td>user_14</td>\n",
       "      <td>-159.568796</td>\n",
       "      <td>143</td>\n",
       "    </tr>\n",
       "    <tr>\n",
       "      <th>3</th>\n",
       "      <td>user_17</td>\n",
       "      <td>-62.207667</td>\n",
       "      <td>47</td>\n",
       "    </tr>\n",
       "    <tr>\n",
       "      <th>4</th>\n",
       "      <td>user_18</td>\n",
       "      <td>-6.368148</td>\n",
       "      <td>3</td>\n",
       "    </tr>\n",
       "    <tr>\n",
       "      <th>5</th>\n",
       "      <td>user_19</td>\n",
       "      <td>-99.440417</td>\n",
       "      <td>16</td>\n",
       "    </tr>\n",
       "    <tr>\n",
       "      <th>6</th>\n",
       "      <td>user_21</td>\n",
       "      <td>-96.111181</td>\n",
       "      <td>10</td>\n",
       "    </tr>\n",
       "    <tr>\n",
       "      <th>7</th>\n",
       "      <td>user_25</td>\n",
       "      <td>-93.474944</td>\n",
       "      <td>179</td>\n",
       "    </tr>\n",
       "    <tr>\n",
       "      <th>8</th>\n",
       "      <td>user_28</td>\n",
       "      <td>-86.793833</td>\n",
       "      <td>149</td>\n",
       "    </tr>\n",
       "    <tr>\n",
       "      <th>9</th>\n",
       "      <td>user_3</td>\n",
       "      <td>-105.738222</td>\n",
       "      <td>317</td>\n",
       "    </tr>\n",
       "    <tr>\n",
       "      <th>10</th>\n",
       "      <td>user_30</td>\n",
       "      <td>-145.528681</td>\n",
       "      <td>3</td>\n",
       "    </tr>\n",
       "  </tbody>\n",
       "</table>\n",
       "</div>"
      ]
     },
     "execution_count": 209,
     "metadata": {},
     "output_type": "execute_result"
    }
   ],
   "execution_count": 209
  },
  {
   "metadata": {
    "ExecuteTime": {
     "end_time": "2025-05-08T08:33:48.614960Z",
     "start_time": "2025-05-08T08:33:48.607284Z"
    }
   },
   "cell_type": "code",
   "source": "views_diff.corr(numeric_only=True)",
   "id": "3ebf1c4a783241dd",
   "outputs": [
    {
     "data": {
      "text/plain": [
       "           avg_diff  pageviews\n",
       "avg_diff   1.000000  -0.279143\n",
       "pageviews -0.279143   1.000000"
      ],
      "text/html": [
       "<div>\n",
       "<style scoped>\n",
       "    .dataframe tbody tr th:only-of-type {\n",
       "        vertical-align: middle;\n",
       "    }\n",
       "\n",
       "    .dataframe tbody tr th {\n",
       "        vertical-align: top;\n",
       "    }\n",
       "\n",
       "    .dataframe thead th {\n",
       "        text-align: right;\n",
       "    }\n",
       "</style>\n",
       "<table border=\"1\" class=\"dataframe\">\n",
       "  <thead>\n",
       "    <tr style=\"text-align: right;\">\n",
       "      <th></th>\n",
       "      <th>avg_diff</th>\n",
       "      <th>pageviews</th>\n",
       "    </tr>\n",
       "  </thead>\n",
       "  <tbody>\n",
       "    <tr>\n",
       "      <th>avg_diff</th>\n",
       "      <td>1.000000</td>\n",
       "      <td>-0.279143</td>\n",
       "    </tr>\n",
       "    <tr>\n",
       "      <th>pageviews</th>\n",
       "      <td>-0.279143</td>\n",
       "      <td>1.000000</td>\n",
       "    </tr>\n",
       "  </tbody>\n",
       "</table>\n",
       "</div>"
      ]
     },
     "execution_count": 210,
     "metadata": {},
     "output_type": "execute_result"
    }
   ],
   "execution_count": 210
  },
  {
   "metadata": {
    "ExecuteTime": {
     "end_time": "2025-05-08T08:33:48.694794Z",
     "start_time": "2025-05-08T08:33:48.691600Z"
    }
   },
   "cell_type": "code",
   "source": "con.close()",
   "id": "f2212026918fd2ac",
   "outputs": [],
   "execution_count": 211
  }
 ],
 "metadata": {},
 "nbformat": 4,
 "nbformat_minor": 5
}
