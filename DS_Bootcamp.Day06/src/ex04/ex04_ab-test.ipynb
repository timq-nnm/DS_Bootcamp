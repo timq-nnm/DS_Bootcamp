{
 "cells": [
  {
   "metadata": {},
   "cell_type": "markdown",
   "source": "# Exercise 04 : A/B-testing",
   "id": "5c727976d237c0d9"
  },
  {
   "metadata": {
    "ExecuteTime": {
     "end_time": "2025-05-08T09:07:07.379958Z",
     "start_time": "2025-05-08T09:07:07.377245Z"
    }
   },
   "cell_type": "code",
   "source": [
    "import pandas as pd\n",
    "import sqlite3"
   ],
   "id": "730e3c045086834e",
   "outputs": [],
   "execution_count": 65
  },
  {
   "metadata": {
    "ExecuteTime": {
     "end_time": "2025-05-08T09:07:07.406055Z",
     "start_time": "2025-05-08T09:07:07.403166Z"
    }
   },
   "cell_type": "code",
   "source": "con = sqlite3.connect('../data/checking-logs.sqlite')",
   "id": "a5e4971cacbcf9e6",
   "outputs": [],
   "execution_count": 66
  },
  {
   "metadata": {
    "ExecuteTime": {
     "end_time": "2025-05-08T09:07:07.428259Z",
     "start_time": "2025-05-08T09:07:07.423725Z"
    }
   },
   "cell_type": "code",
   "source": [
    "test_results = pd.read_sql(\"\"\"SELECT CASE WHEN first_commit_ts < first_view_ts THEN 'after' ELSE 'before' END AS time,\n",
    "  AVG((deadlines - strftime('%s', first_commit_ts)) / 3600.0) AS avg_diff\n",
    "                              FROM test\n",
    "                                  JOIN deadlines\n",
    "                              ON test.labname = deadlines.labs\n",
    "                              WHERE labname != 'project1'\n",
    "                                AND uid IN (\n",
    "                                  SELECT uid FROM test\n",
    "                                  WHERE labname != 'project1'\n",
    "                                  GROUP BY uid\n",
    "                                  HAVING\n",
    "                                  SUM (first_commit_ts\n",
    "                                  < first_view_ts)\n",
    "                                  > 0\n",
    "                                AND\n",
    "                                  SUM (first_commit_ts\n",
    "                                  > first_view_ts)\n",
    "                                  > 0\n",
    "                                  )\n",
    "                              GROUP BY time;\n",
    "                           \"\"\"\n",
    "                           , con)"
   ],
   "id": "903326025ee30b90",
   "outputs": [],
   "execution_count": 67
  },
  {
   "metadata": {
    "ExecuteTime": {
     "end_time": "2025-05-08T09:07:07.455424Z",
     "start_time": "2025-05-08T09:07:07.448715Z"
    }
   },
   "cell_type": "code",
   "source": "test_results",
   "id": "b3ae9287b7a1c857",
   "outputs": [
    {
     "data": {
      "text/plain": [
       "     time    avg_diff\n",
       "0   after   61.156632\n",
       "1  before  105.229241"
      ],
      "text/html": [
       "<div>\n",
       "<style scoped>\n",
       "    .dataframe tbody tr th:only-of-type {\n",
       "        vertical-align: middle;\n",
       "    }\n",
       "\n",
       "    .dataframe tbody tr th {\n",
       "        vertical-align: top;\n",
       "    }\n",
       "\n",
       "    .dataframe thead th {\n",
       "        text-align: right;\n",
       "    }\n",
       "</style>\n",
       "<table border=\"1\" class=\"dataframe\">\n",
       "  <thead>\n",
       "    <tr style=\"text-align: right;\">\n",
       "      <th></th>\n",
       "      <th>time</th>\n",
       "      <th>avg_diff</th>\n",
       "    </tr>\n",
       "  </thead>\n",
       "  <tbody>\n",
       "    <tr>\n",
       "      <th>0</th>\n",
       "      <td>after</td>\n",
       "      <td>61.156632</td>\n",
       "    </tr>\n",
       "    <tr>\n",
       "      <th>1</th>\n",
       "      <td>before</td>\n",
       "      <td>105.229241</td>\n",
       "    </tr>\n",
       "  </tbody>\n",
       "</table>\n",
       "</div>"
      ]
     },
     "execution_count": 68,
     "metadata": {},
     "output_type": "execute_result"
    }
   ],
   "execution_count": 68
  },
  {
   "metadata": {
    "ExecuteTime": {
     "end_time": "2025-05-08T09:07:07.516236Z",
     "start_time": "2025-05-08T09:07:07.511149Z"
    }
   },
   "cell_type": "code",
   "source": [
    "control_results = pd.read_sql(\"\"\"\n",
    "                              SELECT CASE WHEN first_commit_ts < first_view_ts THEN 'after' ELSE 'before' END AS time,\n",
    "  AVG((deadlines - strftime('%s', first_commit_ts)) / 3600.0) AS avg_diff\n",
    "                              FROM control\n",
    "                                  JOIN deadlines\n",
    "                              ON control.labname = deadlines.labs\n",
    "                              WHERE labname != 'project1'\n",
    "                                AND uid IN (\n",
    "                                  SELECT uid FROM control\n",
    "                                  WHERE labname != 'project1'\n",
    "                                  GROUP BY uid\n",
    "                                  HAVING\n",
    "                                  SUM (first_commit_ts\n",
    "                                  < first_view_ts)\n",
    "                                  > 0\n",
    "                                AND\n",
    "                                  SUM (first_commit_ts\n",
    "                                  > first_view_ts)\n",
    "                                  > 0\n",
    "                                  )\n",
    "                              GROUP BY time;\n",
    "\n",
    "                              \"\"\"\n",
    "                              , con)"
   ],
   "id": "4d275abe286b1c1d",
   "outputs": [],
   "execution_count": 69
  },
  {
   "metadata": {
    "ExecuteTime": {
     "end_time": "2025-05-08T09:07:07.583389Z",
     "start_time": "2025-05-08T09:07:07.576987Z"
    }
   },
   "cell_type": "code",
   "source": "control_results",
   "id": "e0e8a41553a6dc1c",
   "outputs": [
    {
     "data": {
      "text/plain": [
       "     time    avg_diff\n",
       "0   after   99.901448\n",
       "1  before  118.144571"
      ],
      "text/html": [
       "<div>\n",
       "<style scoped>\n",
       "    .dataframe tbody tr th:only-of-type {\n",
       "        vertical-align: middle;\n",
       "    }\n",
       "\n",
       "    .dataframe tbody tr th {\n",
       "        vertical-align: top;\n",
       "    }\n",
       "\n",
       "    .dataframe thead th {\n",
       "        text-align: right;\n",
       "    }\n",
       "</style>\n",
       "<table border=\"1\" class=\"dataframe\">\n",
       "  <thead>\n",
       "    <tr style=\"text-align: right;\">\n",
       "      <th></th>\n",
       "      <th>time</th>\n",
       "      <th>avg_diff</th>\n",
       "    </tr>\n",
       "  </thead>\n",
       "  <tbody>\n",
       "    <tr>\n",
       "      <th>0</th>\n",
       "      <td>after</td>\n",
       "      <td>99.901448</td>\n",
       "    </tr>\n",
       "    <tr>\n",
       "      <th>1</th>\n",
       "      <td>before</td>\n",
       "      <td>118.144571</td>\n",
       "    </tr>\n",
       "  </tbody>\n",
       "</table>\n",
       "</div>"
      ]
     },
     "execution_count": 70,
     "metadata": {},
     "output_type": "execute_result"
    }
   ],
   "execution_count": 70
  },
  {
   "metadata": {
    "ExecuteTime": {
     "end_time": "2025-05-08T09:07:07.713250Z",
     "start_time": "2025-05-08T09:07:07.707969Z"
    }
   },
   "cell_type": "code",
   "source": "comparison = pd.merge(test_results, control_results, on=\"time\")",
   "id": "75ba77dfb7260f7d",
   "outputs": [],
   "execution_count": 71
  },
  {
   "metadata": {
    "ExecuteTime": {
     "end_time": "2025-05-08T09:07:07.772294Z",
     "start_time": "2025-05-08T09:07:07.765574Z"
    }
   },
   "cell_type": "code",
   "source": "comparison",
   "id": "e56103ca3d902984",
   "outputs": [
    {
     "data": {
      "text/plain": [
       "     time  avg_diff_x  avg_diff_y\n",
       "0   after   61.156632   99.901448\n",
       "1  before  105.229241  118.144571"
      ],
      "text/html": [
       "<div>\n",
       "<style scoped>\n",
       "    .dataframe tbody tr th:only-of-type {\n",
       "        vertical-align: middle;\n",
       "    }\n",
       "\n",
       "    .dataframe tbody tr th {\n",
       "        vertical-align: top;\n",
       "    }\n",
       "\n",
       "    .dataframe thead th {\n",
       "        text-align: right;\n",
       "    }\n",
       "</style>\n",
       "<table border=\"1\" class=\"dataframe\">\n",
       "  <thead>\n",
       "    <tr style=\"text-align: right;\">\n",
       "      <th></th>\n",
       "      <th>time</th>\n",
       "      <th>avg_diff_x</th>\n",
       "      <th>avg_diff_y</th>\n",
       "    </tr>\n",
       "  </thead>\n",
       "  <tbody>\n",
       "    <tr>\n",
       "      <th>0</th>\n",
       "      <td>after</td>\n",
       "      <td>61.156632</td>\n",
       "      <td>99.901448</td>\n",
       "    </tr>\n",
       "    <tr>\n",
       "      <th>1</th>\n",
       "      <td>before</td>\n",
       "      <td>105.229241</td>\n",
       "      <td>118.144571</td>\n",
       "    </tr>\n",
       "  </tbody>\n",
       "</table>\n",
       "</div>"
      ]
     },
     "execution_count": 72,
     "metadata": {},
     "output_type": "execute_result"
    }
   ],
   "execution_count": 72
  },
  {
   "metadata": {},
   "cell_type": "markdown",
   "source": "## Гипотеза верная, страница влияет на поведение студентов",
   "id": "95f42a309ad8a972"
  }
 ],
 "metadata": {},
 "nbformat": 4,
 "nbformat_minor": 5
}
