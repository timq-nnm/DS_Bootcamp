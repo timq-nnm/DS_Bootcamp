{
 "cells": [
  {
   "cell_type": "markdown",
   "id": "0235b2b8",
   "metadata": {},
   "source": [
    "# Exercise 02 : Join"
   ]
  },
  {
   "cell_type": "code",
   "id": "61b52ec5",
   "metadata": {
    "ExecuteTime": {
     "end_time": "2025-05-07T15:25:52.995973Z",
     "start_time": "2025-05-07T15:25:52.993463Z"
    }
   },
   "source": [
    "import pandas as pd\n",
    "import sqlite3"
   ],
   "outputs": [],
   "execution_count": 48
  },
  {
   "cell_type": "markdown",
   "id": "e83fc0de",
   "metadata": {},
   "source": [
    "### create a connection to the database using the library sqlite3"
   ]
  },
  {
   "cell_type": "code",
   "id": "4b192de5",
   "metadata": {
    "ExecuteTime": {
     "end_time": "2025-05-07T15:25:53.027196Z",
     "start_time": "2025-05-07T15:25:53.021625Z"
    }
   },
   "source": [
    "con = sqlite3.connect('../data/checking-logs.sqlite')\n",
    "con.execute(\"DROP TABLE IF EXISTS datamart;\")"
   ],
   "outputs": [
    {
     "data": {
      "text/plain": [
       "<sqlite3.Cursor at 0x112571840>"
      ]
     },
     "execution_count": 49,
     "metadata": {},
     "output_type": "execute_result"
    }
   ],
   "execution_count": 49
  },
  {
   "cell_type": "markdown",
   "id": "ebc2e47f",
   "metadata": {},
   "source": [
    "### create a new table datamart in the database by joining the tables pageviews and checker using only one query\n",
    "\n",
    "* the table should have the following columns: uid, labname, first_commit_ts, first_view_ts\n",
    "* first_commit_ts is just a new name of the column timestamp from the checker table, it shows the first commit from a particular lab and from a particular user\n",
    "* first_view_ts is the first visit of a user to the table pageviews, timestamp when a user visited the newsfeed\n",
    "* status = ’ready’ should still be a filter\n",
    "* numTrials = 1 should still be a filter\n",
    "* labnames should still be from the list: ’laba04’, ’laba04s’, ’laba05’, ’laba06’, ’laba06s’, ’project1’\n",
    "* the table should contain only the users (uids with user_*) and not the admins\n",
    "* first_commit_ts and first_view_ts should be parsed as datetime64[ns]\n",
    "\n",
    "\n"
   ]
  },
  {
   "cell_type": "code",
   "id": "ececfb25",
   "metadata": {
    "ExecuteTime": {
     "end_time": "2025-05-07T15:25:53.082596Z",
     "start_time": "2025-05-07T15:25:53.071148Z"
    }
   },
   "source": [
    "con.execute(\"\"\"CREATE TABLE datamart AS\n",
    "SELECT c.uid,\n",
    "       c.labname,\n",
    "       MIN(c.timestamp) AS first_commit_ts,\n",
    "       MIN(p.datetime)  AS first_view_ts\n",
    "FROM checker c\n",
    "         LEFT JOIN\n",
    "     pageviews p ON c.uid = p.uid\n",
    "WHERE c.status = 'ready'\n",
    "  AND c.numTrials = 1\n",
    "  AND c.labname IN ('laba04', 'laba04s', 'laba05', 'laba06', 'laba06s', 'project1')\n",
    "  AND c.uid LIKE 'user_%'\n",
    "GROUP BY c.uid, c.labname;\n",
    "            \"\"\")"
   ],
   "outputs": [
    {
     "data": {
      "text/plain": [
       "<sqlite3.Cursor at 0x112683ec0>"
      ]
     },
     "execution_count": 50,
     "metadata": {},
     "output_type": "execute_result"
    }
   ],
   "execution_count": 50
  },
  {
   "cell_type": "markdown",
   "id": "ae6418ce",
   "metadata": {},
   "source": [
    "### using Pandas methods, create two dataframes: test and control\n",
    "\n",
    "* test should have the users that have the values in first_view_ts\n",
    "* control should have the users that have missing values in first_view_ts\n",
    "* replace the missing values in the control with the average first_view_ts of the test users, we will use this value for the future analysis\n",
    "* save both tables into the database, you will use them in the next exercises"
   ]
  },
  {
   "cell_type": "code",
   "id": "f57b93d1",
   "metadata": {
    "ExecuteTime": {
     "end_time": "2025-05-07T15:25:53.128830Z",
     "start_time": "2025-05-07T15:25:53.123425Z"
    }
   },
   "source": [
    "datamart = pd.read_sql(\"SELECT * FROM datamart\", con)"
   ],
   "outputs": [],
   "execution_count": 51
  },
  {
   "cell_type": "code",
   "id": "8e1fa075",
   "metadata": {
    "ExecuteTime": {
     "end_time": "2025-05-07T15:25:53.171516Z",
     "start_time": "2025-05-07T15:25:53.164417Z"
    }
   },
   "source": "datamart = datamart.astype({'first_commit_ts': 'datetime64[ns]', 'first_view_ts': 'datetime64[ns]'})",
   "outputs": [],
   "execution_count": 52
  },
  {
   "cell_type": "code",
   "id": "181b4b11",
   "metadata": {
    "ExecuteTime": {
     "end_time": "2025-05-07T15:25:53.200968Z",
     "start_time": "2025-05-07T15:25:53.193948Z"
    }
   },
   "source": [
    "test = datamart[datamart['first_view_ts'].notna()].copy()\n",
    "control = datamart[datamart['first_view_ts'].isna()].copy()"
   ],
   "outputs": [],
   "execution_count": 53
  },
  {
   "cell_type": "code",
   "id": "e3c93d14",
   "metadata": {
    "ExecuteTime": {
     "end_time": "2025-05-07T15:25:53.228227Z",
     "start_time": "2025-05-07T15:25:53.222622Z"
    }
   },
   "source": [
    "control['first_view_ts'] = test['first_view_ts'].mean()"
   ],
   "outputs": [],
   "execution_count": 54
  },
  {
   "cell_type": "code",
   "id": "e0cb408d",
   "metadata": {
    "ExecuteTime": {
     "end_time": "2025-05-07T15:25:53.260Z",
     "start_time": "2025-05-07T15:25:53.248961Z"
    }
   },
   "source": [
    "control"
   ],
   "outputs": [
    {
     "data": {
      "text/plain": [
       "         uid   labname            first_commit_ts  \\\n",
       "12   user_11    laba05 2020-05-03 21:06:55.970293   \n",
       "13   user_11  project1 2020-05-03 23:45:33.673409   \n",
       "14   user_12    laba04 2020-04-18 17:07:51.767358   \n",
       "15   user_12   laba04s 2020-04-26 15:42:38.070593   \n",
       "16   user_12    laba05 2020-05-03 08:39:25.174316   \n",
       "..       ...       ...                        ...   \n",
       "135   user_8   laba04s 2020-04-19 10:22:35.761944   \n",
       "136   user_8    laba05 2020-05-02 13:28:07.705193   \n",
       "137   user_8    laba06 2020-05-16 17:56:15.755553   \n",
       "138   user_8   laba06s 2020-05-16 20:01:07.900727   \n",
       "139   user_8  project1 2020-05-14 15:42:04.002981   \n",
       "\n",
       "                    first_view_ts  \n",
       "12  2020-04-27 00:40:05.761783552  \n",
       "13  2020-04-27 00:40:05.761783552  \n",
       "14  2020-04-27 00:40:05.761783552  \n",
       "15  2020-04-27 00:40:05.761783552  \n",
       "16  2020-04-27 00:40:05.761783552  \n",
       "..                            ...  \n",
       "135 2020-04-27 00:40:05.761783552  \n",
       "136 2020-04-27 00:40:05.761783552  \n",
       "137 2020-04-27 00:40:05.761783552  \n",
       "138 2020-04-27 00:40:05.761783552  \n",
       "139 2020-04-27 00:40:05.761783552  \n",
       "\n",
       "[81 rows x 4 columns]"
      ],
      "text/html": [
       "<div>\n",
       "<style scoped>\n",
       "    .dataframe tbody tr th:only-of-type {\n",
       "        vertical-align: middle;\n",
       "    }\n",
       "\n",
       "    .dataframe tbody tr th {\n",
       "        vertical-align: top;\n",
       "    }\n",
       "\n",
       "    .dataframe thead th {\n",
       "        text-align: right;\n",
       "    }\n",
       "</style>\n",
       "<table border=\"1\" class=\"dataframe\">\n",
       "  <thead>\n",
       "    <tr style=\"text-align: right;\">\n",
       "      <th></th>\n",
       "      <th>uid</th>\n",
       "      <th>labname</th>\n",
       "      <th>first_commit_ts</th>\n",
       "      <th>first_view_ts</th>\n",
       "    </tr>\n",
       "  </thead>\n",
       "  <tbody>\n",
       "    <tr>\n",
       "      <th>12</th>\n",
       "      <td>user_11</td>\n",
       "      <td>laba05</td>\n",
       "      <td>2020-05-03 21:06:55.970293</td>\n",
       "      <td>2020-04-27 00:40:05.761783552</td>\n",
       "    </tr>\n",
       "    <tr>\n",
       "      <th>13</th>\n",
       "      <td>user_11</td>\n",
       "      <td>project1</td>\n",
       "      <td>2020-05-03 23:45:33.673409</td>\n",
       "      <td>2020-04-27 00:40:05.761783552</td>\n",
       "    </tr>\n",
       "    <tr>\n",
       "      <th>14</th>\n",
       "      <td>user_12</td>\n",
       "      <td>laba04</td>\n",
       "      <td>2020-04-18 17:07:51.767358</td>\n",
       "      <td>2020-04-27 00:40:05.761783552</td>\n",
       "    </tr>\n",
       "    <tr>\n",
       "      <th>15</th>\n",
       "      <td>user_12</td>\n",
       "      <td>laba04s</td>\n",
       "      <td>2020-04-26 15:42:38.070593</td>\n",
       "      <td>2020-04-27 00:40:05.761783552</td>\n",
       "    </tr>\n",
       "    <tr>\n",
       "      <th>16</th>\n",
       "      <td>user_12</td>\n",
       "      <td>laba05</td>\n",
       "      <td>2020-05-03 08:39:25.174316</td>\n",
       "      <td>2020-04-27 00:40:05.761783552</td>\n",
       "    </tr>\n",
       "    <tr>\n",
       "      <th>...</th>\n",
       "      <td>...</td>\n",
       "      <td>...</td>\n",
       "      <td>...</td>\n",
       "      <td>...</td>\n",
       "    </tr>\n",
       "    <tr>\n",
       "      <th>135</th>\n",
       "      <td>user_8</td>\n",
       "      <td>laba04s</td>\n",
       "      <td>2020-04-19 10:22:35.761944</td>\n",
       "      <td>2020-04-27 00:40:05.761783552</td>\n",
       "    </tr>\n",
       "    <tr>\n",
       "      <th>136</th>\n",
       "      <td>user_8</td>\n",
       "      <td>laba05</td>\n",
       "      <td>2020-05-02 13:28:07.705193</td>\n",
       "      <td>2020-04-27 00:40:05.761783552</td>\n",
       "    </tr>\n",
       "    <tr>\n",
       "      <th>137</th>\n",
       "      <td>user_8</td>\n",
       "      <td>laba06</td>\n",
       "      <td>2020-05-16 17:56:15.755553</td>\n",
       "      <td>2020-04-27 00:40:05.761783552</td>\n",
       "    </tr>\n",
       "    <tr>\n",
       "      <th>138</th>\n",
       "      <td>user_8</td>\n",
       "      <td>laba06s</td>\n",
       "      <td>2020-05-16 20:01:07.900727</td>\n",
       "      <td>2020-04-27 00:40:05.761783552</td>\n",
       "    </tr>\n",
       "    <tr>\n",
       "      <th>139</th>\n",
       "      <td>user_8</td>\n",
       "      <td>project1</td>\n",
       "      <td>2020-05-14 15:42:04.002981</td>\n",
       "      <td>2020-04-27 00:40:05.761783552</td>\n",
       "    </tr>\n",
       "  </tbody>\n",
       "</table>\n",
       "<p>81 rows × 4 columns</p>\n",
       "</div>"
      ]
     },
     "execution_count": 55,
     "metadata": {},
     "output_type": "execute_result"
    }
   ],
   "execution_count": 55
  },
  {
   "cell_type": "code",
   "id": "38e91684",
   "metadata": {
    "ExecuteTime": {
     "end_time": "2025-05-07T15:25:53.362332Z",
     "start_time": "2025-05-07T15:25:53.343981Z"
    }
   },
   "source": [
    "test.to_sql(\"test\", con, if_exists=\"replace\", index=False)\n",
    "control.to_sql(\"control\", con, if_exists=\"replace\", index=False)"
   ],
   "outputs": [
    {
     "data": {
      "text/plain": [
       "81"
      ]
     },
     "execution_count": 56,
     "metadata": {},
     "output_type": "execute_result"
    }
   ],
   "execution_count": 56
  },
  {
   "cell_type": "markdown",
   "id": "91465b7d",
   "metadata": {},
   "source": [
    "### close the connection"
   ]
  },
  {
   "cell_type": "code",
   "id": "61ccf0c5",
   "metadata": {
    "ExecuteTime": {
     "end_time": "2025-05-07T15:25:53.417044Z",
     "start_time": "2025-05-07T15:25:53.413891Z"
    }
   },
   "source": [
    "con.close()"
   ],
   "outputs": [],
   "execution_count": 57
  }
 ],
 "metadata": {
  "kernelspec": {
   "display_name": "Python 3",
   "language": "python",
   "name": "python3"
  },
  "language_info": {
   "codemirror_mode": {
    "name": "ipython",
    "version": 3
   },
   "file_extension": ".py",
   "mimetype": "text/x-python",
   "name": "python",
   "nbconvert_exporter": "python",
   "pygments_lexer": "ipython3",
   "version": "3.13.3"
  }
 },
 "nbformat": 4,
 "nbformat_minor": 5
}
